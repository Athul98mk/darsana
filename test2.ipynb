{
 "cells": [
  {
   "cell_type": "markdown",
   "metadata": {
    "id": "HT8ZHE3YITlH"
   },
   "source": [
    "\n",
    "\n",
    "#**A supervised classification model for term deposit prediction**"
   ]
  },
  {
   "cell_type": "markdown",
   "metadata": {
    "id": "nZBrn1vctDc5"
   },
   "source": [
    "\n",
    "###**Abstract**:\n",
    "\n",
    "####The bank pertaining to the dataset is facing a revenue decline. Knowing that term deposits allow the bank to hold on to a deposit for a fixed time and improve financial gains, they decided to create a machine learning model which predicts the capability of their existing clients to subscribe to a term deposit.\n",
    "\n",
    "###**Problem Statement**:\n",
    "\n",
    "####The dataset in our procession is related with the direct marketing campaigns of this banking institution. The classification goal is to predict if the client will subscribe to a term deposit. \n",
    "\n",
    "\n",
    "\n",
    "### **Bank client data**:\n",
    "\n",
    "####Lets take a look at the various feature columns:\n",
    " \n",
    "1. Age (numeric)\n",
    "2. Job : type of job (categorical: ‘admin.’,’blue-collar’,’entrepreneur’,’housemaid’,’management’,’retired’,’self-employed’,’services’,’student’,’technician’,’unemployed’,’unknown’)\n",
    "3. marital : marital status (categorical: ‘divorced’,’married’,’single’,’unknown’; note: ‘divorced’ means divorced or widowed)\n",
    "4. education (categorical: ‘basic.4y’,’basic.6y’,’basic.9y’,’high.school’,’illiterate’,’professional.course’,’university.degree’,’unknown’)\n",
    "5. default: has credit in default? (categorical: ‘no’,’yes’,’unknown’)\n",
    "6. housing: has housing loan? (categorical: ‘no’,’yes’,’unknown’)\n",
    "7. loan: has personal loan? (categorical: ‘no’,’yes’,’unknown’)\n",
    "related with the last contact of the current campaign:\n",
    "8. contact: contact communication type (categorical: ‘cellular’,’telephone’)\n",
    "9. month: last contact month of year (categorical: ‘jan’, ‘feb’, ‘mar’, …, ‘nov’, ‘dec’)\n",
    "10. day_of_week: last contact day of the week (categorical: ‘mon’,’tue’,’wed’,’thu’,’fri’)\n",
    "11. duration: last contact duration, in seconds (numeric). Important note: this attribute highly affects the output target (e.g., if duration=0 then y=’no’). Yet, the duration is not known before a call is performed. Also, after the end of the call y is obviously known. Thus, this input should only be included for benchmark purposes and should be discarded if the intention is to have a realistic predictive model.\n",
    "12. campaign: number of contacts performed during this campaign and for this client (numeric, includes last contact)\n",
    "13. pdays: number of days that passed by after the client was last contacted from a previous campaign (numeric; 999 means client was not previously contacted)\n",
    "14. previous: number of contacts performed before this campaign and for this client (numeric)\n",
    "15. poutcome: outcome of the previous marketing campaign (categorical: ‘failure’,’nonexistent’,’success’)\n",
    "16. emp.var.rate: employment variation rate — quarterly indicator (numeric)\n",
    "17. cons.price.idx: consumer price index — monthly indicator (numeric)\n",
    "18. cons.conf.idx: consumer confidence index — monthly indicator (numeric)\n",
    "19. euribor3m: euribor 3 month rate — daily indicator (numeric)\n",
    "20. nr.employed: number of employees — quarterly indicator (numeric)\n",
    "\n",
    "###**Output variable:**\n",
    "21. y: has the client subscribed a term deposit? (binary: ‘yes’,’no’)"
   ]
  },
  {
   "cell_type": "markdown",
   "metadata": {
    "id": "gIo-2qPnMC4X"
   },
   "source": []
  },
  {
   "cell_type": "code",
   "execution_count": 1,
   "metadata": {
    "executionInfo": {
     "elapsed": 23,
     "status": "ok",
     "timestamp": 1646749452550,
     "user": {
      "displayName": "DSA batch2",
      "photoUrl": "https://lh3.googleusercontent.com/a/default-user=s64",
      "userId": "12491673681855205206"
     },
     "user_tz": -330
    },
    "id": "3_DSXSCtHjlP"
   },
   "outputs": [],
   "source": [
    "import numpy as np\n",
    "import pandas as pd\n",
    "import matplotlib.pyplot as plt\n",
    "import seaborn as sns\n",
    "#from google.colab import drive"
   ]
  },
  {
   "cell_type": "markdown",
   "metadata": {
    "id": "mN9xo2Qb34iM"
   },
   "source": [
    "###**1. Data Collection**"
   ]
  },
  {
   "cell_type": "code",
   "execution_count": 2,
   "metadata": {
    "colab": {
     "base_uri": "https://localhost:8080/"
    },
    "executionInfo": {
     "elapsed": 5259,
     "status": "ok",
     "timestamp": 1646749457789,
     "user": {
      "displayName": "DSA batch2",
      "photoUrl": "https://lh3.googleusercontent.com/a/default-user=s64",
      "userId": "12491673681855205206"
     },
     "user_tz": -330
    },
    "id": "hnA3hJ8oIL-H",
    "outputId": "3395dcfe-6c69-41a3-bd52-730f4c210d26"
   },
   "outputs": [],
   "source": [
    "#drive.mount('/content/gdrive')\n",
    "#df = pd.read_csv(\"/content/gdrive/My Drive/project/bank-additional-full.csv\", sep=';')\n",
    "df = pd.read_csv(\"bank-additional-full.csv\", sep=';')"
   ]
  },
  {
   "cell_type": "code",
   "execution_count": 3,
   "metadata": {
    "colab": {
     "base_uri": "https://localhost:8080/",
     "height": 456
    },
    "executionInfo": {
     "elapsed": 159,
     "status": "ok",
     "timestamp": 1646749457792,
     "user": {
      "displayName": "DSA batch2",
      "photoUrl": "https://lh3.googleusercontent.com/a/default-user=s64",
      "userId": "12491673681855205206"
     },
     "user_tz": -330
    },
    "id": "3dsBiY7LOto-",
    "outputId": "c1c69872-04b4-4e97-cf55-2cb2ebb053f9"
   },
   "outputs": [
    {
     "data": {
      "text/html": [
       "<div>\n",
       "<style scoped>\n",
       "    .dataframe tbody tr th:only-of-type {\n",
       "        vertical-align: middle;\n",
       "    }\n",
       "\n",
       "    .dataframe tbody tr th {\n",
       "        vertical-align: top;\n",
       "    }\n",
       "\n",
       "    .dataframe thead th {\n",
       "        text-align: right;\n",
       "    }\n",
       "</style>\n",
       "<table border=\"1\" class=\"dataframe\">\n",
       "  <thead>\n",
       "    <tr style=\"text-align: right;\">\n",
       "      <th></th>\n",
       "      <th>age</th>\n",
       "      <th>job</th>\n",
       "      <th>marital</th>\n",
       "      <th>education</th>\n",
       "      <th>default</th>\n",
       "      <th>housing</th>\n",
       "      <th>loan</th>\n",
       "      <th>contact</th>\n",
       "      <th>month</th>\n",
       "      <th>day_of_week</th>\n",
       "      <th>...</th>\n",
       "      <th>campaign</th>\n",
       "      <th>pdays</th>\n",
       "      <th>previous</th>\n",
       "      <th>poutcome</th>\n",
       "      <th>emp.var.rate</th>\n",
       "      <th>cons.price.idx</th>\n",
       "      <th>cons.conf.idx</th>\n",
       "      <th>euribor3m</th>\n",
       "      <th>nr.employed</th>\n",
       "      <th>y</th>\n",
       "    </tr>\n",
       "  </thead>\n",
       "  <tbody>\n",
       "    <tr>\n",
       "      <th>0</th>\n",
       "      <td>56</td>\n",
       "      <td>housemaid</td>\n",
       "      <td>married</td>\n",
       "      <td>basic.4y</td>\n",
       "      <td>no</td>\n",
       "      <td>no</td>\n",
       "      <td>no</td>\n",
       "      <td>telephone</td>\n",
       "      <td>may</td>\n",
       "      <td>mon</td>\n",
       "      <td>...</td>\n",
       "      <td>1</td>\n",
       "      <td>999</td>\n",
       "      <td>0</td>\n",
       "      <td>nonexistent</td>\n",
       "      <td>1.1</td>\n",
       "      <td>93.994</td>\n",
       "      <td>-36.4</td>\n",
       "      <td>4.857</td>\n",
       "      <td>5191.0</td>\n",
       "      <td>no</td>\n",
       "    </tr>\n",
       "    <tr>\n",
       "      <th>1</th>\n",
       "      <td>57</td>\n",
       "      <td>services</td>\n",
       "      <td>married</td>\n",
       "      <td>high.school</td>\n",
       "      <td>unknown</td>\n",
       "      <td>no</td>\n",
       "      <td>no</td>\n",
       "      <td>telephone</td>\n",
       "      <td>may</td>\n",
       "      <td>mon</td>\n",
       "      <td>...</td>\n",
       "      <td>1</td>\n",
       "      <td>999</td>\n",
       "      <td>0</td>\n",
       "      <td>nonexistent</td>\n",
       "      <td>1.1</td>\n",
       "      <td>93.994</td>\n",
       "      <td>-36.4</td>\n",
       "      <td>4.857</td>\n",
       "      <td>5191.0</td>\n",
       "      <td>no</td>\n",
       "    </tr>\n",
       "    <tr>\n",
       "      <th>2</th>\n",
       "      <td>37</td>\n",
       "      <td>services</td>\n",
       "      <td>married</td>\n",
       "      <td>high.school</td>\n",
       "      <td>no</td>\n",
       "      <td>yes</td>\n",
       "      <td>no</td>\n",
       "      <td>telephone</td>\n",
       "      <td>may</td>\n",
       "      <td>mon</td>\n",
       "      <td>...</td>\n",
       "      <td>1</td>\n",
       "      <td>999</td>\n",
       "      <td>0</td>\n",
       "      <td>nonexistent</td>\n",
       "      <td>1.1</td>\n",
       "      <td>93.994</td>\n",
       "      <td>-36.4</td>\n",
       "      <td>4.857</td>\n",
       "      <td>5191.0</td>\n",
       "      <td>no</td>\n",
       "    </tr>\n",
       "    <tr>\n",
       "      <th>3</th>\n",
       "      <td>40</td>\n",
       "      <td>admin.</td>\n",
       "      <td>married</td>\n",
       "      <td>basic.6y</td>\n",
       "      <td>no</td>\n",
       "      <td>no</td>\n",
       "      <td>no</td>\n",
       "      <td>telephone</td>\n",
       "      <td>may</td>\n",
       "      <td>mon</td>\n",
       "      <td>...</td>\n",
       "      <td>1</td>\n",
       "      <td>999</td>\n",
       "      <td>0</td>\n",
       "      <td>nonexistent</td>\n",
       "      <td>1.1</td>\n",
       "      <td>93.994</td>\n",
       "      <td>-36.4</td>\n",
       "      <td>4.857</td>\n",
       "      <td>5191.0</td>\n",
       "      <td>no</td>\n",
       "    </tr>\n",
       "    <tr>\n",
       "      <th>4</th>\n",
       "      <td>56</td>\n",
       "      <td>services</td>\n",
       "      <td>married</td>\n",
       "      <td>high.school</td>\n",
       "      <td>no</td>\n",
       "      <td>no</td>\n",
       "      <td>yes</td>\n",
       "      <td>telephone</td>\n",
       "      <td>may</td>\n",
       "      <td>mon</td>\n",
       "      <td>...</td>\n",
       "      <td>1</td>\n",
       "      <td>999</td>\n",
       "      <td>0</td>\n",
       "      <td>nonexistent</td>\n",
       "      <td>1.1</td>\n",
       "      <td>93.994</td>\n",
       "      <td>-36.4</td>\n",
       "      <td>4.857</td>\n",
       "      <td>5191.0</td>\n",
       "      <td>no</td>\n",
       "    </tr>\n",
       "    <tr>\n",
       "      <th>5</th>\n",
       "      <td>45</td>\n",
       "      <td>services</td>\n",
       "      <td>married</td>\n",
       "      <td>basic.9y</td>\n",
       "      <td>unknown</td>\n",
       "      <td>no</td>\n",
       "      <td>no</td>\n",
       "      <td>telephone</td>\n",
       "      <td>may</td>\n",
       "      <td>mon</td>\n",
       "      <td>...</td>\n",
       "      <td>1</td>\n",
       "      <td>999</td>\n",
       "      <td>0</td>\n",
       "      <td>nonexistent</td>\n",
       "      <td>1.1</td>\n",
       "      <td>93.994</td>\n",
       "      <td>-36.4</td>\n",
       "      <td>4.857</td>\n",
       "      <td>5191.0</td>\n",
       "      <td>no</td>\n",
       "    </tr>\n",
       "    <tr>\n",
       "      <th>6</th>\n",
       "      <td>59</td>\n",
       "      <td>admin.</td>\n",
       "      <td>married</td>\n",
       "      <td>professional.course</td>\n",
       "      <td>no</td>\n",
       "      <td>no</td>\n",
       "      <td>no</td>\n",
       "      <td>telephone</td>\n",
       "      <td>may</td>\n",
       "      <td>mon</td>\n",
       "      <td>...</td>\n",
       "      <td>1</td>\n",
       "      <td>999</td>\n",
       "      <td>0</td>\n",
       "      <td>nonexistent</td>\n",
       "      <td>1.1</td>\n",
       "      <td>93.994</td>\n",
       "      <td>-36.4</td>\n",
       "      <td>4.857</td>\n",
       "      <td>5191.0</td>\n",
       "      <td>no</td>\n",
       "    </tr>\n",
       "    <tr>\n",
       "      <th>7</th>\n",
       "      <td>41</td>\n",
       "      <td>blue-collar</td>\n",
       "      <td>married</td>\n",
       "      <td>unknown</td>\n",
       "      <td>unknown</td>\n",
       "      <td>no</td>\n",
       "      <td>no</td>\n",
       "      <td>telephone</td>\n",
       "      <td>may</td>\n",
       "      <td>mon</td>\n",
       "      <td>...</td>\n",
       "      <td>1</td>\n",
       "      <td>999</td>\n",
       "      <td>0</td>\n",
       "      <td>nonexistent</td>\n",
       "      <td>1.1</td>\n",
       "      <td>93.994</td>\n",
       "      <td>-36.4</td>\n",
       "      <td>4.857</td>\n",
       "      <td>5191.0</td>\n",
       "      <td>no</td>\n",
       "    </tr>\n",
       "    <tr>\n",
       "      <th>8</th>\n",
       "      <td>24</td>\n",
       "      <td>technician</td>\n",
       "      <td>single</td>\n",
       "      <td>professional.course</td>\n",
       "      <td>no</td>\n",
       "      <td>yes</td>\n",
       "      <td>no</td>\n",
       "      <td>telephone</td>\n",
       "      <td>may</td>\n",
       "      <td>mon</td>\n",
       "      <td>...</td>\n",
       "      <td>1</td>\n",
       "      <td>999</td>\n",
       "      <td>0</td>\n",
       "      <td>nonexistent</td>\n",
       "      <td>1.1</td>\n",
       "      <td>93.994</td>\n",
       "      <td>-36.4</td>\n",
       "      <td>4.857</td>\n",
       "      <td>5191.0</td>\n",
       "      <td>no</td>\n",
       "    </tr>\n",
       "    <tr>\n",
       "      <th>9</th>\n",
       "      <td>25</td>\n",
       "      <td>services</td>\n",
       "      <td>single</td>\n",
       "      <td>high.school</td>\n",
       "      <td>no</td>\n",
       "      <td>yes</td>\n",
       "      <td>no</td>\n",
       "      <td>telephone</td>\n",
       "      <td>may</td>\n",
       "      <td>mon</td>\n",
       "      <td>...</td>\n",
       "      <td>1</td>\n",
       "      <td>999</td>\n",
       "      <td>0</td>\n",
       "      <td>nonexistent</td>\n",
       "      <td>1.1</td>\n",
       "      <td>93.994</td>\n",
       "      <td>-36.4</td>\n",
       "      <td>4.857</td>\n",
       "      <td>5191.0</td>\n",
       "      <td>no</td>\n",
       "    </tr>\n",
       "  </tbody>\n",
       "</table>\n",
       "<p>10 rows × 21 columns</p>\n",
       "</div>"
      ],
      "text/plain": [
       "   age          job  marital            education  default housing loan  \\\n",
       "0   56    housemaid  married             basic.4y       no      no   no   \n",
       "1   57     services  married          high.school  unknown      no   no   \n",
       "2   37     services  married          high.school       no     yes   no   \n",
       "3   40       admin.  married             basic.6y       no      no   no   \n",
       "4   56     services  married          high.school       no      no  yes   \n",
       "5   45     services  married             basic.9y  unknown      no   no   \n",
       "6   59       admin.  married  professional.course       no      no   no   \n",
       "7   41  blue-collar  married              unknown  unknown      no   no   \n",
       "8   24   technician   single  professional.course       no     yes   no   \n",
       "9   25     services   single          high.school       no     yes   no   \n",
       "\n",
       "     contact month day_of_week  ...  campaign  pdays  previous     poutcome  \\\n",
       "0  telephone   may         mon  ...         1    999         0  nonexistent   \n",
       "1  telephone   may         mon  ...         1    999         0  nonexistent   \n",
       "2  telephone   may         mon  ...         1    999         0  nonexistent   \n",
       "3  telephone   may         mon  ...         1    999         0  nonexistent   \n",
       "4  telephone   may         mon  ...         1    999         0  nonexistent   \n",
       "5  telephone   may         mon  ...         1    999         0  nonexistent   \n",
       "6  telephone   may         mon  ...         1    999         0  nonexistent   \n",
       "7  telephone   may         mon  ...         1    999         0  nonexistent   \n",
       "8  telephone   may         mon  ...         1    999         0  nonexistent   \n",
       "9  telephone   may         mon  ...         1    999         0  nonexistent   \n",
       "\n",
       "  emp.var.rate  cons.price.idx  cons.conf.idx  euribor3m  nr.employed   y  \n",
       "0          1.1          93.994          -36.4      4.857       5191.0  no  \n",
       "1          1.1          93.994          -36.4      4.857       5191.0  no  \n",
       "2          1.1          93.994          -36.4      4.857       5191.0  no  \n",
       "3          1.1          93.994          -36.4      4.857       5191.0  no  \n",
       "4          1.1          93.994          -36.4      4.857       5191.0  no  \n",
       "5          1.1          93.994          -36.4      4.857       5191.0  no  \n",
       "6          1.1          93.994          -36.4      4.857       5191.0  no  \n",
       "7          1.1          93.994          -36.4      4.857       5191.0  no  \n",
       "8          1.1          93.994          -36.4      4.857       5191.0  no  \n",
       "9          1.1          93.994          -36.4      4.857       5191.0  no  \n",
       "\n",
       "[10 rows x 21 columns]"
      ]
     },
     "execution_count": 3,
     "metadata": {},
     "output_type": "execute_result"
    }
   ],
   "source": [
    "df.head(10)"
   ]
  },
  {
   "cell_type": "markdown",
   "metadata": {
    "colab": {
     "base_uri": "https://localhost:8080/"
    },
    "executionInfo": {
     "elapsed": 155,
     "status": "ok",
     "timestamp": 1646749457796,
     "user": {
      "displayName": "DSA batch2",
      "photoUrl": "https://lh3.googleusercontent.com/a/default-user=s64",
      "userId": "12491673681855205206"
     },
     "user_tz": -330
    },
    "id": "Yfxoc1y3OnD1",
    "outputId": "263b907f-0c6a-43ed-8aa7-5374562891d7"
   },
   "source": [
    "print('There are', df.shape[0], 'observations and',df.shape[1], 'Features including target \"y\" in the dataset')"
   ]
  },
  {
   "cell_type": "markdown",
   "metadata": {
    "colab": {
     "base_uri": "https://localhost:8080/"
    },
    "executionInfo": {
     "elapsed": 150,
     "status": "ok",
     "timestamp": 1646749457797,
     "user": {
      "displayName": "DSA batch2",
      "photoUrl": "https://lh3.googleusercontent.com/a/default-user=s64",
      "userId": "12491673681855205206"
     },
     "user_tz": -330
    },
    "id": "ZobVEsvXZJZd",
    "outputId": "32ebacaf-7af8-483a-a786-0ba7856dd7cb"
   },
   "source": [
    "df.info()"
   ]
  },
  {
   "cell_type": "markdown",
   "metadata": {
    "colab": {
     "base_uri": "https://localhost:8080/",
     "height": 300
    },
    "executionInfo": {
     "elapsed": 106,
     "status": "ok",
     "timestamp": 1646749457798,
     "user": {
      "displayName": "DSA batch2",
      "photoUrl": "https://lh3.googleusercontent.com/a/default-user=s64",
      "userId": "12491673681855205206"
     },
     "user_tz": -330
    },
    "id": "cSw2VaRZRQKG",
    "outputId": "6c3ff164-42ff-47bd-ebe1-45404b4fc97e"
   },
   "source": [
    "df.describe()"
   ]
  },
  {
   "cell_type": "markdown",
   "metadata": {
    "id": "P1Y1sVJu4MZw"
   },
   "source": [
    "### **2. Exploratory Data analysis**"
   ]
  },
  {
   "cell_type": "markdown",
   "metadata": {
    "executionInfo": {
     "elapsed": 105,
     "status": "ok",
     "timestamp": 1646749457800,
     "user": {
      "displayName": "DSA batch2",
      "photoUrl": "https://lh3.googleusercontent.com/a/default-user=s64",
      "userId": "12491673681855205206"
     },
     "user_tz": -330
    },
    "id": "-8XBvdU-RjeX"
   },
   "source": [
    "sns.set_theme(style=\"whitegrid\")"
   ]
  },
  {
   "cell_type": "markdown",
   "metadata": {
    "executionInfo": {
     "elapsed": 105,
     "status": "ok",
     "timestamp": 1646749457801,
     "user": {
      "displayName": "DSA batch2",
      "photoUrl": "https://lh3.googleusercontent.com/a/default-user=s64",
      "userId": "12491673681855205206"
     },
     "user_tz": -330
    },
    "id": "mHC3hm5fqs9V"
   },
   "source": [
    "#Countplot of target column"
   ]
  },
  {
   "cell_type": "markdown",
   "metadata": {
    "colab": {
     "base_uri": "https://localhost:8080/",
     "height": 415
    },
    "executionInfo": {
     "elapsed": 104,
     "status": "ok",
     "timestamp": 1646749457802,
     "user": {
      "displayName": "DSA batch2",
      "photoUrl": "https://lh3.googleusercontent.com/a/default-user=s64",
      "userId": "12491673681855205206"
     },
     "user_tz": -330
    },
    "id": "nBMIvfFwnAF-",
    "outputId": "7bd2cbb1-cdcd-4e1a-dce4-c20aed01fd21"
   },
   "source": [
    "plt.figure(figsize = (8, 6))\n",
    "target=sns.countplot(x ='y', data = df)\n",
    "total = float(len(df))\n",
    "plt.title('Target count', fontsize=20)\n",
    "for p in target.patches:\n",
    "    percentage = '{:.1f}%'.format(100 * p.get_height()/total)\n",
    "    x = p.get_x() + p.get_width()\n",
    "    y = p.get_height()\n",
    "    target.annotate(percentage, (x, y),ha='right')\n",
    "plt.show()"
   ]
  },
  {
   "cell_type": "markdown",
   "metadata": {
    "id": "6QJnBv_HPy9b"
   },
   "source": [
    "This is an imbalanced dataset since 88.7% of target is 'NO' and only 11.3% of target is 'YES'"
   ]
  },
  {
   "cell_type": "markdown",
   "metadata": {
    "id": "TmU3O_vw4jZF"
   },
   "source": [
    "#### **2.1 Univariate Data Analysis**"
   ]
  },
  {
   "cell_type": "markdown",
   "metadata": {
    "executionInfo": {
     "elapsed": 103,
     "status": "ok",
     "timestamp": 1646749457805,
     "user": {
      "displayName": "DSA batch2",
      "photoUrl": "https://lh3.googleusercontent.com/a/default-user=s64",
      "userId": "12491673681855205206"
     },
     "user_tz": -330
    },
    "id": "wpW_tQiW6Nz4"
   },
   "source": [
    "#Plotting count of Job Distribution"
   ]
  },
  {
   "cell_type": "markdown",
   "metadata": {
    "colab": {
     "base_uri": "https://localhost:8080/",
     "height": 483
    },
    "executionInfo": {
     "elapsed": 104,
     "status": "ok",
     "timestamp": 1646749457807,
     "user": {
      "displayName": "DSA batch2",
      "photoUrl": "https://lh3.googleusercontent.com/a/default-user=s64",
      "userId": "12491673681855205206"
     },
     "user_tz": -330
    },
    "id": "bFaKNL2rbiGA",
    "outputId": "f26afc28-802f-41e8-9513-95b3f9d17959"
   },
   "source": [
    "job_count = df['job'].value_counts()\n",
    "plt.figure(figsize = (8, 6))\n",
    "job_count.plot(kind = \"bar\")\n",
    "plt.title(\"Job Distribution\",fontsize=20)\n",
    "plt.xlabel(\"Job\")\n",
    "plt.ylabel(\"Count\")\n",
    "plt.show()"
   ]
  },
  {
   "cell_type": "markdown",
   "metadata": {
    "colab": {
     "base_uri": "https://localhost:8080/",
     "height": 461
    },
    "executionInfo": {
     "elapsed": 2382,
     "status": "ok",
     "timestamp": 1646749460088,
     "user": {
      "displayName": "DSA batch2",
      "photoUrl": "https://lh3.googleusercontent.com/a/default-user=s64",
      "userId": "12491673681855205206"
     },
     "user_tz": -330
    },
    "id": "kROX2B4sO_xH",
    "outputId": "eec4656d-02f1-46fa-faaa-ebd2c7d53ab7"
   },
   "source": [
    "plt.figure(figsize = (15, 6))\n",
    "target=sns.countplot(x ='job', data = df, hue='y')\n",
    "total = float(len(df))\n",
    "plt.title('Job Distribution based on term deposit', fontsize=20)\n",
    "plt.xticks(rotation = 45,fontsize = 10)\n",
    "for p in target.patches:\n",
    "    percentage = '{:.1f}%'.format(100 * p.get_height()/total)\n",
    "    x = p.get_x() + p.get_width()\n",
    "    y = p.get_height()\n",
    "    target.annotate(percentage, (x, y),ha='right')\n",
    "plt.show()"
   ]
  },
  {
   "cell_type": "markdown",
   "metadata": {
    "id": "vG7JnnzLxRaD"
   },
   "source": [
    "In the dataset the majority are from Admin, blue collar and technician jobs & most of the term deposit subscibers are also from these categories."
   ]
  },
  {
   "cell_type": "markdown",
   "metadata": {
    "executionInfo": {
     "elapsed": 118,
     "status": "ok",
     "timestamp": 1646749460089,
     "user": {
      "displayName": "DSA batch2",
      "photoUrl": "https://lh3.googleusercontent.com/a/default-user=s64",
      "userId": "12491673681855205206"
     },
     "user_tz": -330
    },
    "id": "R-ia-TMmcmVz"
   },
   "source": [
    "#Plotting count of Marital Distribution"
   ]
  },
  {
   "cell_type": "markdown",
   "metadata": {
    "colab": {
     "base_uri": "https://localhost:8080/",
     "height": 487
    },
    "executionInfo": {
     "elapsed": 124,
     "status": "ok",
     "timestamp": 1646749460096,
     "user": {
      "displayName": "DSA batch2",
      "photoUrl": "https://lh3.googleusercontent.com/a/default-user=s64",
      "userId": "12491673681855205206"
     },
     "user_tz": -330
    },
    "id": "1CVzHBqUQnHD",
    "outputId": "f6e8ff89-5313-430e-ffc3-1f0c3a9a9570"
   },
   "source": [
    "mar_count = df['marital'].value_counts()\n",
    "plt.figure(figsize = (8, 8))\n",
    "mar_count.plot(kind = \"pie\",autopct='%.0f%%')\n",
    "plt.title(\"Marital Distribution\",fontsize=20)\n",
    "plt.show()"
   ]
  },
  {
   "cell_type": "markdown",
   "metadata": {
    "colab": {
     "base_uri": "https://localhost:8080/",
     "height": 415
    },
    "executionInfo": {
     "elapsed": 123,
     "status": "ok",
     "timestamp": 1646749460097,
     "user": {
      "displayName": "DSA batch2",
      "photoUrl": "https://lh3.googleusercontent.com/a/default-user=s64",
      "userId": "12491673681855205206"
     },
     "user_tz": -330
    },
    "id": "A7olKolvQoXJ",
    "outputId": "90028d1a-e0ab-44d7-9da0-8be99a5f2c74"
   },
   "source": [
    "plt.figure(figsize = (8, 6))\n",
    "target=sns.countplot(x ='marital', data = df, hue='y')\n",
    "total = float(len(df))\n",
    "plt.title('Marital Distribution based on term deposit', fontsize=20)\n",
    "for p in target.patches:\n",
    "    percentage = '{:.1f}%'.format(100 * p.get_height()/total)\n",
    "    x = p.get_x() + p.get_width()\n",
    "    y = p.get_height()\n",
    "    target.annotate(percentage, (x, y),ha='right')\n",
    "plt.show()"
   ]
  },
  {
   "cell_type": "markdown",
   "metadata": {
    "id": "AFm1-iFF2TIa"
   },
   "source": [
    "As most of the clients are married, both term deposit acceptance and rejection rate is significant among them."
   ]
  },
  {
   "cell_type": "markdown",
   "metadata": {
    "executionInfo": {
     "elapsed": 125,
     "status": "ok",
     "timestamp": 1646749460101,
     "user": {
      "displayName": "DSA batch2",
      "photoUrl": "https://lh3.googleusercontent.com/a/default-user=s64",
      "userId": "12491673681855205206"
     },
     "user_tz": -330
    },
    "id": "kY7gsHHkcvlR"
   },
   "source": [
    "#Plotting count of Credit in default Distribution"
   ]
  },
  {
   "cell_type": "markdown",
   "metadata": {
    "colab": {
     "base_uri": "https://localhost:8080/",
     "height": 415
    },
    "executionInfo": {
     "elapsed": 145,
     "status": "ok",
     "timestamp": 1646749460122,
     "user": {
      "displayName": "DSA batch2",
      "photoUrl": "https://lh3.googleusercontent.com/a/default-user=s64",
      "userId": "12491673681855205206"
     },
     "user_tz": -330
    },
    "id": "LETfl87yRZEI",
    "outputId": "0e5a4665-79da-4429-a586-5ef8a164b854"
   },
   "source": [
    "cred_count = df['default'].value_counts()\n",
    "plt.figure(figsize = (8, 6))\n",
    "cred_count.plot(kind = \"barh\")\n",
    "plt.title(\"Credit in default Distribution\",fontsize=20)\n",
    "plt.ylabel(\"Credit in default\")\n",
    "plt.xlabel(\"Count\")\n",
    "plt.show()"
   ]
  },
  {
   "cell_type": "markdown",
   "metadata": {
    "colab": {
     "base_uri": "https://localhost:8080/",
     "height": 415
    },
    "executionInfo": {
     "elapsed": 145,
     "status": "ok",
     "timestamp": 1646749460123,
     "user": {
      "displayName": "DSA batch2",
      "photoUrl": "https://lh3.googleusercontent.com/a/default-user=s64",
      "userId": "12491673681855205206"
     },
     "user_tz": -330
    },
    "id": "ntN_qUwyQpLj",
    "outputId": "ddc54f8c-b972-4e52-960e-d96bde36a3ee"
   },
   "source": [
    "plt.figure(figsize = (8, 6))\n",
    "target=sns.countplot(x ='default', data = df, hue='y')\n",
    "total = float(len(df))\n",
    "plt.title('Credit in default Distribution based on term deposit', fontsize=20)\n",
    "for p in target.patches:\n",
    "    percentage = '{:.1f}%'.format(100 * p.get_height()/total)\n",
    "    x = p.get_x() + p.get_width()\n",
    "    y = p.get_height()\n",
    "    target.annotate(percentage, (x, y),ha='right')\n",
    "plt.show()"
   ]
  },
  {
   "cell_type": "markdown",
   "metadata": {
    "id": "wvBekHm74Isq"
   },
   "source": [
    "Compared to other features presence of unknown value is more in this particular feature."
   ]
  },
  {
   "cell_type": "markdown",
   "metadata": {
    "executionInfo": {
     "elapsed": 145,
     "status": "ok",
     "timestamp": 1646749460125,
     "user": {
      "displayName": "DSA batch2",
      "photoUrl": "https://lh3.googleusercontent.com/a/default-user=s64",
      "userId": "12491673681855205206"
     },
     "user_tz": -330
    },
    "id": "Iv6r5xZNc71a"
   },
   "source": [
    "#Plotting count of Housing loan Distribution"
   ]
  },
  {
   "cell_type": "markdown",
   "metadata": {
    "colab": {
     "base_uri": "https://localhost:8080/",
     "height": 415
    },
    "executionInfo": {
     "elapsed": 3002,
     "status": "ok",
     "timestamp": 1646749462983,
     "user": {
      "displayName": "DSA batch2",
      "photoUrl": "https://lh3.googleusercontent.com/a/default-user=s64",
      "userId": "12491673681855205206"
     },
     "user_tz": -330
    },
    "id": "_ofzcuNpVLzC",
    "outputId": "287e8d2d-21d2-49f2-9a4d-32102903d8dc"
   },
   "source": [
    "hou_count = df['housing'].value_counts()\n",
    "plt.figure(figsize = (8, 6))\n",
    "hou_count.plot(kind = \"area\")\n",
    "plt.title(\"Housing loan Distribution\",fontsize=20)\n",
    "plt.xlabel(\"Housing loan\")\n",
    "plt.ylabel(\"Count\")\n",
    "plt.show()"
   ]
  },
  {
   "cell_type": "markdown",
   "metadata": {
    "colab": {
     "base_uri": "https://localhost:8080/",
     "height": 415
    },
    "executionInfo": {
     "elapsed": 55,
     "status": "ok",
     "timestamp": 1646749462987,
     "user": {
      "displayName": "DSA batch2",
      "photoUrl": "https://lh3.googleusercontent.com/a/default-user=s64",
      "userId": "12491673681855205206"
     },
     "user_tz": -330
    },
    "id": "Ou2EXOqMQo_0",
    "outputId": "9585754b-c5a1-4437-e99f-7cea5232a81b"
   },
   "source": [
    "plt.figure(figsize = (8, 6))\n",
    "target=sns.countplot(x ='housing', data = df, hue='y')\n",
    "total = float(len(df))\n",
    "plt.title('Housing loan Distribution based on term deposit', fontsize=20)\n",
    "for p in target.patches:\n",
    "    percentage = '{:.1f}%'.format(100 * p.get_height()/total)\n",
    "    x = p.get_x() + p.get_width()\n",
    "    y = p.get_height()\n",
    "    target.annotate(percentage, (x, y),ha='right')\n",
    "plt.show()"
   ]
  },
  {
   "cell_type": "markdown",
   "metadata": {
    "id": "lSXfphvi62SG"
   },
   "source": [
    "6.1% clients subscribed tern depoit eventhough they had housing loan."
   ]
  },
  {
   "cell_type": "markdown",
   "metadata": {
    "executionInfo": {
     "elapsed": 53,
     "status": "ok",
     "timestamp": 1646749462988,
     "user": {
      "displayName": "DSA batch2",
      "photoUrl": "https://lh3.googleusercontent.com/a/default-user=s64",
      "userId": "12491673681855205206"
     },
     "user_tz": -330
    },
    "id": "QhyBefPe6Wc-"
   },
   "source": [
    "#Plotting count of Job Distribution of Clients with personal loan"
   ]
  },
  {
   "cell_type": "markdown",
   "metadata": {
    "colab": {
     "base_uri": "https://localhost:8080/",
     "height": 415
    },
    "executionInfo": {
     "elapsed": 56,
     "status": "ok",
     "timestamp": 1646749462992,
     "user": {
      "displayName": "DSA batch2",
      "photoUrl": "https://lh3.googleusercontent.com/a/default-user=s64",
      "userId": "12491673681855205206"
     },
     "user_tz": -330
    },
    "id": "Sh93Vgo3ick7",
    "outputId": "0dc90434-92c2-4c24-cb24-7999f8ac358f"
   },
   "source": [
    "plt.figure(figsize = (15, 6))\n",
    "job_count_yes = df[df['loan']=='yes']\n",
    "job_count_y=job_count_yes['job'].value_counts()\n",
    "job_count_y.plot(kind = \"line\")\n",
    "plt.title(\"Job Distribution having Personal Loan\",fontsize=20)\n",
    "plt.xlabel(\"Job Distribution having Personal loan\")\n",
    "plt.ylabel(\"Count\")\n",
    "plt.show()"
   ]
  },
  {
   "cell_type": "markdown",
   "metadata": {
    "executionInfo": {
     "elapsed": 56,
     "status": "ok",
     "timestamp": 1646749462994,
     "user": {
      "displayName": "DSA batch2",
      "photoUrl": "https://lh3.googleusercontent.com/a/default-user=s64",
      "userId": "12491673681855205206"
     },
     "user_tz": -330
    },
    "id": "zTTpf5KIcOeb"
   },
   "source": [
    "#Plotting count of Personal loan Distribution"
   ]
  },
  {
   "cell_type": "markdown",
   "metadata": {
    "colab": {
     "base_uri": "https://localhost:8080/",
     "height": 415
    },
    "executionInfo": {
     "elapsed": 57,
     "status": "ok",
     "timestamp": 1646749462995,
     "user": {
      "displayName": "DSA batch2",
      "photoUrl": "https://lh3.googleusercontent.com/a/default-user=s64",
      "userId": "12491673681855205206"
     },
     "user_tz": -330
    },
    "id": "26IcCVrZbzPM",
    "outputId": "e24ec725-7c6c-4e83-b339-08ab7be0f3ec"
   },
   "source": [
    "plt.figure(figsize = (8, 6))\n",
    "target=sns.countplot(x ='loan', data = df, hue='y')\n",
    "total = float(len(df))\n",
    "plt.title('Personal loan Distribution based on term deposit', fontsize=20)\n",
    "for p in target.patches:\n",
    "    percentage = '{:.1f}%'.format(100 * p.get_height()/total)\n",
    "    x = p.get_x() + p.get_width()\n",
    "    y = p.get_height()\n",
    "    target.annotate(percentage, (x, y),ha='right')\n",
    "plt.show()"
   ]
  },
  {
   "cell_type": "markdown",
   "metadata": {
    "id": "xM3y2kv-7Hor"
   },
   "source": [
    "Most of the people are free from personal loan and at the same time 9.3% subscribed the term deposit from that category."
   ]
  },
  {
   "cell_type": "markdown",
   "metadata": {
    "executionInfo": {
     "elapsed": 95,
     "status": "ok",
     "timestamp": 1646749463035,
     "user": {
      "displayName": "DSA batch2",
      "photoUrl": "https://lh3.googleusercontent.com/a/default-user=s64",
      "userId": "12491673681855205206"
     },
     "user_tz": -330
    },
    "id": "TToRgE4P6jnw"
   },
   "source": [
    "#Pie-chart of Educational distribution of clients"
   ]
  },
  {
   "cell_type": "markdown",
   "metadata": {
    "colab": {
     "base_uri": "https://localhost:8080/",
     "height": 487
    },
    "executionInfo": {
     "elapsed": 2100,
     "status": "ok",
     "timestamp": 1646749465041,
     "user": {
      "displayName": "DSA batch2",
      "photoUrl": "https://lh3.googleusercontent.com/a/default-user=s64",
      "userId": "12491673681855205206"
     },
     "user_tz": -330
    },
    "id": "DZO8WYlpHeKa",
    "outputId": "9b76a4c5-43e3-4784-ecf1-84c9a7a8d399"
   },
   "source": [
    "plt.figure(figsize = (8, 8))\n",
    "education_count = df['education'].value_counts()\n",
    "plt.pie(education_count, labels=[\"university.degree=12168\",\"high.school=9515\",\"basic.9y=6045\",\n",
    "\"professional.course=5243\",\"basic.4y=4176\",\"basic.6y=2292\",\"unknown=1731\",\"illiterate=18\"],autopct='%.0f%%',shadow=True)\n",
    "plt.title('Pie-chart of Educational distribution of clients',size=20)\n",
    "plt.show()"
   ]
  },
  {
   "cell_type": "markdown",
   "metadata": {
    "colab": {
     "base_uri": "https://localhost:8080/",
     "height": 415
    },
    "executionInfo": {
     "elapsed": 93,
     "status": "ok",
     "timestamp": 1646749465044,
     "user": {
      "displayName": "DSA batch2",
      "photoUrl": "https://lh3.googleusercontent.com/a/default-user=s64",
      "userId": "12491673681855205206"
     },
     "user_tz": -330
    },
    "id": "QTD62NuprXZh",
    "outputId": "d965603c-6c09-4cfc-8751-137e4043839b"
   },
   "source": [
    "plt.figure(figsize = (15, 6))\n",
    "target=sns.countplot(x ='education', data = df, hue='y')\n",
    "total = float(len(df))\n",
    "plt.title('Education Distribution based on term deposit', fontsize=20)\n",
    "for p in target.patches:\n",
    "    percentage = '{:.1f}%'.format(100 * p.get_height()/total)\n",
    "    x = p.get_x() + p.get_width()\n",
    "    y = p.get_height()\n",
    "    target.annotate(percentage, (x, y),ha='right')\n",
    "plt.show()"
   ]
  },
  {
   "cell_type": "markdown",
   "metadata": {
    "id": "Umw3C3498t64"
   },
   "source": [
    "Most of the clients have high school or above education. They constitutes the major part in term deposit subscription. \n"
   ]
  },
  {
   "cell_type": "markdown",
   "metadata": {
    "executionInfo": {
     "elapsed": 87,
     "status": "ok",
     "timestamp": 1646749465045,
     "user": {
      "displayName": "DSA batch2",
      "photoUrl": "https://lh3.googleusercontent.com/a/default-user=s64",
      "userId": "12491673681855205206"
     },
     "user_tz": -330
    },
    "id": "IjKb41iBdhvW"
   },
   "source": [
    "#Plotting count of Communication type Distribution"
   ]
  },
  {
   "cell_type": "markdown",
   "metadata": {
    "colab": {
     "base_uri": "https://localhost:8080/",
     "height": 415
    },
    "executionInfo": {
     "elapsed": 90,
     "status": "ok",
     "timestamp": 1646749465049,
     "user": {
      "displayName": "DSA batch2",
      "photoUrl": "https://lh3.googleusercontent.com/a/default-user=s64",
      "userId": "12491673681855205206"
     },
     "user_tz": -330
    },
    "id": "7rM6NDKAdvXp",
    "outputId": "5ef828c8-e21e-4740-f5f1-8f78b8d9e4d6"
   },
   "source": [
    "comm_count = df['contact'].value_counts()\n",
    "plt.figure(figsize = (8, 6))\n",
    "comm_count.plot(kind = \"barh\")\n",
    "plt.title(\"Communication type Distribution\",fontsize=20)\n",
    "plt.ylabel(\"Communication type\")\n",
    "plt.xlabel(\"Count\")\n",
    "plt.show()"
   ]
  },
  {
   "cell_type": "markdown",
   "metadata": {
    "executionInfo": {
     "elapsed": 87,
     "status": "ok",
     "timestamp": 1646749465049,
     "user": {
      "displayName": "DSA batch2",
      "photoUrl": "https://lh3.googleusercontent.com/a/default-user=s64",
      "userId": "12491673681855205206"
     },
     "user_tz": -330
    },
    "id": "MfrMv8aof4dU"
   },
   "source": [
    "#Plotting count of Last contact month Distribution"
   ]
  },
  {
   "cell_type": "markdown",
   "metadata": {
    "colab": {
     "base_uri": "https://localhost:8080/",
     "height": 429
    },
    "executionInfo": {
     "elapsed": 87,
     "status": "ok",
     "timestamp": 1646749465050,
     "user": {
      "displayName": "DSA batch2",
      "photoUrl": "https://lh3.googleusercontent.com/a/default-user=s64",
      "userId": "12491673681855205206"
     },
     "user_tz": -330
    },
    "id": "tgCev0tpf12k",
    "outputId": "dcd27186-ecb7-4583-e640-1db18ac14a01"
   },
   "source": [
    "mon_count = df['month'].value_counts()\n",
    "plt.figure(figsize = (8, 6))\n",
    "mon_count.plot(kind = \"bar\")\n",
    "plt.title(\"Last contact month Distribution\",fontsize=20)\n",
    "plt.xlabel(\"Last contact month\")\n",
    "plt.ylabel(\"Count\")\n",
    "plt.show()"
   ]
  },
  {
   "cell_type": "markdown",
   "metadata": {
    "colab": {
     "base_uri": "https://localhost:8080/",
     "height": 415
    },
    "executionInfo": {
     "elapsed": 84,
     "status": "ok",
     "timestamp": 1646749465051,
     "user": {
      "displayName": "DSA batch2",
      "photoUrl": "https://lh3.googleusercontent.com/a/default-user=s64",
      "userId": "12491673681855205206"
     },
     "user_tz": -330
    },
    "id": "3djXjIv1f1kT",
    "outputId": "70507fed-2901-41cc-a2e8-1de285e82cdb"
   },
   "source": [
    "plt.figure(figsize = (15, 6))\n",
    "target=sns.countplot(x ='month', data = df, hue='y')\n",
    "total = float(len(df))\n",
    "plt.title('Last contact month Distribution based on term deposit subscription', fontsize=20)\n",
    "for p in target.patches:\n",
    "    percentage = '{:.1f}%'.format(100 * p.get_height()/total)\n",
    "    x = p.get_x() + p.get_width()\n",
    "    y = p.get_height()\n",
    "    target.annotate(percentage, (x, y),ha='right')\n",
    "plt.show()"
   ]
  },
  {
   "cell_type": "markdown",
   "metadata": {
    "id": "Qt1P7NN-AJqI"
   },
   "source": [
    "Eventhough the campaigning was meagre during the months october, december, march and september, we can see that the campaigning was effective as the rate of term deposit subscription  is almost equal to the non subscription. In other months the difference between subscription and non subscription is very high."
   ]
  },
  {
   "cell_type": "markdown",
   "metadata": {
    "executionInfo": {
     "elapsed": 80,
     "status": "ok",
     "timestamp": 1646749465051,
     "user": {
      "displayName": "DSA batch2",
      "photoUrl": "https://lh3.googleusercontent.com/a/default-user=s64",
      "userId": "12491673681855205206"
     },
     "user_tz": -330
    },
    "id": "eQcmNYWliaSN"
   },
   "source": [
    "#Plotting count of the Last contact day of week Distribution"
   ]
  },
  {
   "cell_type": "markdown",
   "metadata": {
    "colab": {
     "base_uri": "https://localhost:8080/",
     "height": 487
    },
    "executionInfo": {
     "elapsed": 1701,
     "status": "ok",
     "timestamp": 1646749466675,
     "user": {
      "displayName": "DSA batch2",
      "photoUrl": "https://lh3.googleusercontent.com/a/default-user=s64",
      "userId": "12491673681855205206"
     },
     "user_tz": -330
    },
    "id": "FARCcxsEi08c",
    "outputId": "93258cf7-9f23-4e08-d060-686bd586b2d5"
   },
   "source": [
    "day_count = df['day_of_week'].value_counts()\n",
    "plt.figure(figsize = (8, 8))\n",
    "day_count.plot(kind = \"pie\",autopct='%.0f%%')\n",
    "plt.title(\"Last contact day of week Distribution\",fontsize=20)\n",
    "plt.show()"
   ]
  },
  {
   "cell_type": "markdown",
   "metadata": {
    "colab": {
     "base_uri": "https://localhost:8080/",
     "height": 415
    },
    "executionInfo": {
     "elapsed": 50,
     "status": "ok",
     "timestamp": 1646749466676,
     "user": {
      "displayName": "DSA batch2",
      "photoUrl": "https://lh3.googleusercontent.com/a/default-user=s64",
      "userId": "12491673681855205206"
     },
     "user_tz": -330
    },
    "id": "D3msHd4Rgesw",
    "outputId": "fd22548c-4b68-46bc-f80e-99e1fc42f38d"
   },
   "source": [
    "plt.figure(figsize = (10, 6))\n",
    "target=sns.countplot(x ='day_of_week', data = df, hue='y')\n",
    "total = float(len(df))\n",
    "plt.title('Last contact day of week Distribution based on term deposit', fontsize=20)\n",
    "for p in target.patches:\n",
    "    percentage = '{:.1f}%'.format(100 * p.get_height()/total)\n",
    "    x = p.get_x() + p.get_width()\n",
    "    y = p.get_height()\n",
    "    target.annotate(percentage, (x, y),ha='right')\n",
    "plt.show()"
   ]
  },
  {
   "cell_type": "markdown",
   "metadata": {
    "id": "X-q6nOIUCiVK"
   },
   "source": [
    "The categorical feature last day of contact has no role in term deposit subscription."
   ]
  },
  {
   "cell_type": "markdown",
   "metadata": {
    "executionInfo": {
     "elapsed": 59,
     "status": "ok",
     "timestamp": 1646749466691,
     "user": {
      "displayName": "DSA batch2",
      "photoUrl": "https://lh3.googleusercontent.com/a/default-user=s64",
      "userId": "12491673681855205206"
     },
     "user_tz": -330
    },
    "id": "DDEWKqOtibi-"
   },
   "source": [
    "#Plotting count of the Outcome of the previous marketing campaign Distribution"
   ]
  },
  {
   "cell_type": "markdown",
   "metadata": {
    "colab": {
     "base_uri": "https://localhost:8080/",
     "height": 415
    },
    "executionInfo": {
     "elapsed": 60,
     "status": "ok",
     "timestamp": 1646749466693,
     "user": {
      "displayName": "DSA batch2",
      "photoUrl": "https://lh3.googleusercontent.com/a/default-user=s64",
      "userId": "12491673681855205206"
     },
     "user_tz": -330
    },
    "id": "JdsxQWsrkuDI",
    "outputId": "95a65f7e-9f98-4729-ebda-ccb3ee717fa8"
   },
   "source": [
    "pout_count = df['poutcome'].value_counts()\n",
    "plt.figure(figsize = (8, 6))\n",
    "pout_count.plot(kind = \"area\")\n",
    "plt.title(\"Outcome of the previous marketing campaign Distribution\",fontsize=20)\n",
    "plt.xlabel(\"Outcome of the previous marketing campaign\")\n",
    "plt.ylabel(\"Count\")\n",
    "plt.show()"
   ]
  },
  {
   "cell_type": "markdown",
   "metadata": {
    "colab": {
     "base_uri": "https://localhost:8080/",
     "height": 415
    },
    "executionInfo": {
     "elapsed": 59,
     "status": "ok",
     "timestamp": 1646749466695,
     "user": {
      "displayName": "DSA batch2",
      "photoUrl": "https://lh3.googleusercontent.com/a/default-user=s64",
      "userId": "12491673681855205206"
     },
     "user_tz": -330
    },
    "id": "KIi123fYiM82",
    "outputId": "6add0c96-cb05-4844-990e-9b61040c4bd1"
   },
   "source": [
    "plt.figure(figsize = (10, 6))\n",
    "target=sns.countplot(x ='poutcome', data = df, hue='y')\n",
    "total = float(len(df))\n",
    "plt.title('Outcome of the previous marketing campaign Distribution based on term deposit', fontsize=20)\n",
    "for p in target.patches:\n",
    "    percentage = '{:.1f}%'.format(100 * p.get_height()/total)\n",
    "    x = p.get_x() + p.get_width()\n",
    "    y = p.get_height()\n",
    "    target.annotate(percentage, (x, y),ha='right')\n",
    "plt.show()"
   ]
  },
  {
   "cell_type": "markdown",
   "metadata": {
    "id": "05mZZJQaHRkL"
   },
   "source": [
    "The chance of attaining subscription to a new term deposit is higher for  clients who have subscribed term deposit in previous campaigns. Nearly 10% of clients who did not attend the previous campaign has subscribed the term deposit."
   ]
  },
  {
   "cell_type": "markdown",
   "metadata": {
    "id": "o8mWHnI87J_J"
   },
   "source": [
    "### **2.2 Bivariate Data Analysis**"
   ]
  },
  {
   "cell_type": "markdown",
   "metadata": {
    "executionInfo": {
     "elapsed": 57,
     "status": "ok",
     "timestamp": 1646749466697,
     "user": {
      "displayName": "DSA batch2",
      "photoUrl": "https://lh3.googleusercontent.com/a/default-user=s64",
      "userId": "12491673681855205206"
     },
     "user_tz": -330
    },
    "id": "gQrGegEv71im"
   },
   "source": [
    "#Plotting 'Duration' vs 'campaign'"
   ]
  },
  {
   "cell_type": "markdown",
   "metadata": {
    "colab": {
     "base_uri": "https://localhost:8080/",
     "height": 520
    },
    "executionInfo": {
     "elapsed": 3689,
     "status": "ok",
     "timestamp": 1646749470330,
     "user": {
      "displayName": "DSA batch2",
      "photoUrl": "https://lh3.googleusercontent.com/a/default-user=s64",
      "userId": "12491673681855205206"
     },
     "user_tz": -330
    },
    "id": "fI-lBa7wHeAM",
    "outputId": "0e2501f4-0057-403f-85e9-35ce16122cf2"
   },
   "source": [
    "plt.figure(figsize = (12, 8))\n",
    "plt.title('Call duration vs Campaign',size=15)\n",
    "sns.scatterplot(data=df, x='duration', y ='campaign', hue='y')\n",
    "plt.show()"
   ]
  },
  {
   "cell_type": "markdown",
   "metadata": {
    "id": "W0p0LA5XI1wx"
   },
   "source": [
    "There is an increase in tendency to take term deposit with the increase in call duration. As the number of contacts performed increases the chance of subscription decreases."
   ]
  },
  {
   "cell_type": "markdown",
   "metadata": {
    "executionInfo": {
     "elapsed": 54,
     "status": "ok",
     "timestamp": 1646749470332,
     "user": {
      "displayName": "DSA batch2",
      "photoUrl": "https://lh3.googleusercontent.com/a/default-user=s64",
      "userId": "12491673681855205206"
     },
     "user_tz": -330
    },
    "id": "6o4K-1aF8BGB"
   },
   "source": [
    "#Plotting 'Job' vs 'age'"
   ]
  },
  {
   "cell_type": "markdown",
   "metadata": {
    "colab": {
     "base_uri": "https://localhost:8080/",
     "height": 520
    },
    "executionInfo": {
     "elapsed": 54,
     "status": "ok",
     "timestamp": 1646749470336,
     "user": {
      "displayName": "DSA batch2",
      "photoUrl": "https://lh3.googleusercontent.com/a/default-user=s64",
      "userId": "12491673681855205206"
     },
     "user_tz": -330
    },
    "id": "CEh4Tcj-Hd01",
    "outputId": "8f8bb94a-2c40-4608-a6b1-764d324d9fef"
   },
   "source": [
    "plt.figure(figsize = (17, 8))\n",
    "sns.boxplot(data=df, x='job', y='age',hue='y')\n",
    "plt.title('Job vs Age',size=15)\n",
    "plt.show()"
   ]
  },
  {
   "cell_type": "markdown",
   "metadata": {
    "id": "CisbiUgoMhhs"
   },
   "source": [
    "Median age of the clients are in between 30 and 50."
   ]
  },
  {
   "cell_type": "markdown",
   "metadata": {
    "executionInfo": {
     "elapsed": 48,
     "status": "ok",
     "timestamp": 1646749470338,
     "user": {
      "displayName": "DSA batch2",
      "photoUrl": "https://lh3.googleusercontent.com/a/default-user=s64",
      "userId": "12491673681855205206"
     },
     "user_tz": -330
    },
    "id": "78pQGETYmUO9"
   },
   "source": [
    "#Plotting 'previous' vs 'duration'"
   ]
  },
  {
   "cell_type": "markdown",
   "metadata": {
    "colab": {
     "base_uri": "https://localhost:8080/",
     "height": 412
    },
    "executionInfo": {
     "elapsed": 3476,
     "status": "ok",
     "timestamp": 1646749473769,
     "user": {
      "displayName": "DSA batch2",
      "photoUrl": "https://lh3.googleusercontent.com/a/default-user=s64",
      "userId": "12491673681855205206"
     },
     "user_tz": -330
    },
    "id": "_kAwZTJCUDU2",
    "outputId": "e21cdff4-afe1-49d2-c4b6-2fb11d1270c3"
   },
   "source": [
    "plt.figure(figsize = (15, 6))\n",
    "plt.title('Previous contacts vs Call duration',size=15)\n",
    "sns.stripplot(x='previous',y= \"duration\",hue='y', data=df)\n",
    "plt.show()"
   ]
  },
  {
   "cell_type": "markdown",
   "metadata": {
    "id": "0j47YdYbNB-U"
   },
   "source": [
    "Term deposit subscription depends on call duration rather than number of contacts perfomed before this campaign. "
   ]
  },
  {
   "cell_type": "markdown",
   "metadata": {
    "executionInfo": {
     "elapsed": 25,
     "status": "ok",
     "timestamp": 1646749473772,
     "user": {
      "displayName": "DSA batch2",
      "photoUrl": "https://lh3.googleusercontent.com/a/default-user=s64",
      "userId": "12491673681855205206"
     },
     "user_tz": -330
    },
    "id": "JvgRoDjcEFna"
   },
   "source": [
    "#Plotting 'age' vs 'duration'"
   ]
  },
  {
   "cell_type": "markdown",
   "metadata": {
    "colab": {
     "base_uri": "https://localhost:8080/",
     "height": 629
    },
    "executionInfo": {
     "elapsed": 7806,
     "status": "ok",
     "timestamp": 1646749481558,
     "user": {
      "displayName": "DSA batch2",
      "photoUrl": "https://lh3.googleusercontent.com/a/default-user=s64",
      "userId": "12491673681855205206"
     },
     "user_tz": -330
    },
    "id": "Q3q4wQ8_wlUC",
    "outputId": "5adef522-c2c8-49b7-90b9-c9cb8a5ad825"
   },
   "source": [
    "plt.figure(figsize=(10,10))\n",
    "plt.title('Age vs Call duration',size=15)\n",
    "sns.scatterplot(x ='age',y= 'duration',hue='y', data=df)\n",
    "plt.show()"
   ]
  },
  {
   "cell_type": "markdown",
   "metadata": {
    "id": "FughloaCOMUU"
   },
   "source": [
    "Age has no specific dependance on term deposit subscription. It depends mainly on call duration. "
   ]
  },
  {
   "cell_type": "markdown",
   "metadata": {
    "id": "3TleVIt5gC4_"
   },
   "source": [
    "## **3**. **Preprocessing** "
   ]
  },
  {
   "cell_type": "markdown",
   "metadata": {
    "id": "3d-TIhvogxjA"
   },
   "source": [
    "### **3.1 Missing Value Handling**"
   ]
  },
  {
   "cell_type": "markdown",
   "metadata": {
    "colab": {
     "base_uri": "https://localhost:8080/"
    },
    "executionInfo": {
     "elapsed": 100,
     "status": "ok",
     "timestamp": 1646749481560,
     "user": {
      "displayName": "DSA batch2",
      "photoUrl": "https://lh3.googleusercontent.com/a/default-user=s64",
      "userId": "12491673681855205206"
     },
     "user_tz": -330
    },
    "id": "pwroXWKQf-PT",
    "outputId": "3b9b7fdd-085a-43d8-94f0-6811becea27d"
   },
   "source": [
    "df.isna().sum()"
   ]
  },
  {
   "cell_type": "markdown",
   "metadata": {
    "id": "Fn7HSNbsLJKr"
   },
   "source": [
    "isna() function gives no Missing values but there are missing vlaues as 'unknown'\n",
    "\n",
    "Since it's an imbalanced dataset, We have already decided to oversample our data set. So, removing 'unknown' values having target y= 'NO' and keeping the rest 'unknown' values as separate category for acquiring better results.\n"
   ]
  },
  {
   "cell_type": "code",
   "execution_count": 49,
   "metadata": {
    "colab": {
     "base_uri": "https://localhost:8080/"
    },
    "executionInfo": {
     "elapsed": 84,
     "status": "ok",
     "timestamp": 1646749481561,
     "user": {
      "displayName": "DSA batch2",
      "photoUrl": "https://lh3.googleusercontent.com/a/default-user=s64",
      "userId": "12491673681855205206"
     },
     "user_tz": -330
    },
    "id": "sK_sjBm3L95I",
    "outputId": "bc154cfe-e250-49b0-92c7-8e9cfdb9b077"
   },
   "outputs": [
    {
     "data": {
      "text/plain": [
       "no     36548\n",
       "yes     4640\n",
       "Name: y, dtype: int64"
      ]
     },
     "execution_count": 49,
     "metadata": {},
     "output_type": "execute_result"
    }
   ],
   "source": [
    "df.y.value_counts()"
   ]
  },
  {
   "cell_type": "code",
   "execution_count": 50,
   "metadata": {
    "colab": {
     "base_uri": "https://localhost:8080/"
    },
    "executionInfo": {
     "elapsed": 77,
     "status": "ok",
     "timestamp": 1646749481561,
     "user": {
      "displayName": "DSA batch2",
      "photoUrl": "https://lh3.googleusercontent.com/a/default-user=s64",
      "userId": "12491673681855205206"
     },
     "user_tz": -330
    },
    "id": "74Cw3ltBf-Bl",
    "outputId": "e0c09877-fac7-431f-c6a6-2f1f3567dd14"
   },
   "outputs": [
    {
     "data": {
      "text/plain": [
       "(31269, 21)"
      ]
     },
     "execution_count": 50,
     "metadata": {},
     "output_type": "execute_result"
    }
   ],
   "source": [
    "df=df[(df['default']!='unknown')&(df['job']!='unknown')&(df['marital']!='unknown')&(df['education']!='unknown')&(df['loan']!='unknown')&(df['housing']!='unknown')|(df['y']=='yes')]\n",
    "df.shape"
   ]
  },
  {
   "cell_type": "code",
   "execution_count": 51,
   "metadata": {
    "colab": {
     "base_uri": "https://localhost:8080/"
    },
    "executionInfo": {
     "elapsed": 87,
     "status": "ok",
     "timestamp": 1646749481577,
     "user": {
      "displayName": "DSA batch2",
      "photoUrl": "https://lh3.googleusercontent.com/a/default-user=s64",
      "userId": "12491673681855205206"
     },
     "user_tz": -330
    },
    "id": "-LO3lUYsf91O",
    "outputId": "db812969-f9de-40d1-a9d5-f759b9dd6011"
   },
   "outputs": [
    {
     "data": {
      "text/plain": [
       "no     26629\n",
       "yes     4640\n",
       "Name: y, dtype: int64"
      ]
     },
     "execution_count": 51,
     "metadata": {},
     "output_type": "execute_result"
    }
   ],
   "source": [
    "df.y.value_counts()"
   ]
  },
  {
   "cell_type": "markdown",
   "metadata": {
    "id": "3GbROSKkP6GZ"
   },
   "source": [
    "**Removing Biased Features**"
   ]
  },
  {
   "cell_type": "code",
   "execution_count": 52,
   "metadata": {
    "colab": {
     "base_uri": "https://localhost:8080/"
    },
    "executionInfo": {
     "elapsed": 83,
     "status": "ok",
     "timestamp": 1646749481578,
     "user": {
      "displayName": "DSA batch2",
      "photoUrl": "https://lh3.googleusercontent.com/a/default-user=s64",
      "userId": "12491673681855205206"
     },
     "user_tz": -330
    },
    "id": "mYjyuNDvQG3R",
    "outputId": "d4410dce-bab9-4909-cf4c-8b3be6c5ad4a"
   },
   "outputs": [
    {
     "data": {
      "text/plain": [
       "999    29831\n",
       "3        420\n",
       "6        397\n",
       "4        112\n",
       "9         61\n",
       "2         59\n",
       "7         56\n",
       "12        54\n",
       "10        45\n",
       "5         45\n",
       "13        35\n",
       "11        27\n",
       "15        22\n",
       "1         22\n",
       "14        18\n",
       "8         17\n",
       "0         14\n",
       "16         9\n",
       "18         7\n",
       "17         7\n",
       "22         3\n",
       "19         3\n",
       "21         2\n",
       "25         1\n",
       "26         1\n",
       "27         1\n",
       "Name: pdays, dtype: int64"
      ]
     },
     "execution_count": 52,
     "metadata": {},
     "output_type": "execute_result"
    }
   ],
   "source": [
    "df['pdays'].value_counts()"
   ]
  },
  {
   "cell_type": "code",
   "execution_count": 53,
   "metadata": {
    "colab": {
     "base_uri": "https://localhost:8080/"
    },
    "executionInfo": {
     "elapsed": 78,
     "status": "ok",
     "timestamp": 1646749481579,
     "user": {
      "displayName": "DSA batch2",
      "photoUrl": "https://lh3.googleusercontent.com/a/default-user=s64",
      "userId": "12491673681855205206"
     },
     "user_tz": -330
    },
    "id": "GkMjO8KDQTDB",
    "outputId": "49b1a310-ab72-4668-e8cd-c77189c67aa6"
   },
   "outputs": [
    {
     "data": {
      "text/plain": [
       "0    26405\n",
       "1     3887\n",
       "2      686\n",
       "3      203\n",
       "4       64\n",
       "5       18\n",
       "6        5\n",
       "7        1\n",
       "Name: previous, dtype: int64"
      ]
     },
     "execution_count": 53,
     "metadata": {},
     "output_type": "execute_result"
    }
   ],
   "source": [
    "df['previous'].value_counts()"
   ]
  },
  {
   "cell_type": "markdown",
   "metadata": {
    "id": "wkF0P6_wSkoS"
   },
   "source": [
    "'pdays' and 'previous' have dominating value as 999 and 0 respectively. Thus removing 'pdays' and 'previous'."
   ]
  },
  {
   "cell_type": "markdown",
   "metadata": {
    "id": "jizXE0XTRAip"
   },
   "source": [
    "Duration: this attribute highly affects the output target (e.g., if duration=0 then y=’no’). Yet, the duration is not known before a call is performed. Also, after the end of the call y is obviously known. Thus, this input should only be included for benchmark purposes and should be discarded if the intention is to have a realistic predictive model.\n",
    "\n",
    "We are creating a predictive model. So, removing 'duration' feature"
   ]
  },
  {
   "cell_type": "code",
   "execution_count": 54,
   "metadata": {
    "executionInfo": {
     "elapsed": 1239,
     "status": "ok",
     "timestamp": 1646749482747,
     "user": {
      "displayName": "DSA batch2",
      "photoUrl": "https://lh3.googleusercontent.com/a/default-user=s64",
      "userId": "12491673681855205206"
     },
     "user_tz": -330
    },
    "id": "w_Fvs_sJQc1e"
   },
   "outputs": [],
   "source": [
    "df1=df.drop(['duration','pdays','previous'],axis=1)"
   ]
  },
  {
   "cell_type": "markdown",
   "metadata": {
    "id": "SwyRYlu6Moj6"
   },
   "source": [
    "### **3.2 Oversampling Data**"
   ]
  },
  {
   "cell_type": "markdown",
   "metadata": {
    "colab": {
     "base_uri": "https://localhost:8080/"
    },
    "executionInfo": {
     "elapsed": 43,
     "status": "ok",
     "timestamp": 1646749482749,
     "user": {
      "displayName": "DSA batch2",
      "photoUrl": "https://lh3.googleusercontent.com/a/default-user=s64",
      "userId": "12491673681855205206"
     },
     "user_tz": -330
    },
    "id": "-pem7tFVf9Ho",
    "outputId": "0aad2c2a-e14d-4660-8dbc-9ddced35a0a9"
   },
   "source": [
    "from sklearn.utils import resample\n",
    "\n",
    "\n",
    "df_majority = df[df.y=='no']\n",
    "df_minority = df[df.y=='yes']\n",
    "\n",
    "df_minority_upsampled = resample(df_minority,\n",
    "                        replace=True,    \n",
    "                        n_samples=12000,    \n",
    "                        random_state=42) \n",
    " \n",
    "df1 = pd.concat([df_minority_upsampled, df_majority])\n",
    "df1.y.value_counts()"
   ]
  },
  {
   "cell_type": "code",
   "execution_count": 55,
   "metadata": {
    "colab": {
     "base_uri": "https://localhost:8080/",
     "height": 488
    },
    "executionInfo": {
     "elapsed": 40,
     "status": "ok",
     "timestamp": 1646749482750,
     "user": {
      "displayName": "DSA batch2",
      "photoUrl": "https://lh3.googleusercontent.com/a/default-user=s64",
      "userId": "12491673681855205206"
     },
     "user_tz": -330
    },
    "id": "leL0PFeuUKUW",
    "outputId": "2e684cc6-8371-470a-952c-0329878aba13"
   },
   "outputs": [
    {
     "data": {
      "text/html": [
       "<div>\n",
       "<style scoped>\n",
       "    .dataframe tbody tr th:only-of-type {\n",
       "        vertical-align: middle;\n",
       "    }\n",
       "\n",
       "    .dataframe tbody tr th {\n",
       "        vertical-align: top;\n",
       "    }\n",
       "\n",
       "    .dataframe thead th {\n",
       "        text-align: right;\n",
       "    }\n",
       "</style>\n",
       "<table border=\"1\" class=\"dataframe\">\n",
       "  <thead>\n",
       "    <tr style=\"text-align: right;\">\n",
       "      <th></th>\n",
       "      <th>age</th>\n",
       "      <th>job</th>\n",
       "      <th>marital</th>\n",
       "      <th>education</th>\n",
       "      <th>default</th>\n",
       "      <th>housing</th>\n",
       "      <th>loan</th>\n",
       "      <th>contact</th>\n",
       "      <th>month</th>\n",
       "      <th>day_of_week</th>\n",
       "      <th>campaign</th>\n",
       "      <th>poutcome</th>\n",
       "      <th>emp.var.rate</th>\n",
       "      <th>cons.price.idx</th>\n",
       "      <th>cons.conf.idx</th>\n",
       "      <th>euribor3m</th>\n",
       "      <th>nr.employed</th>\n",
       "      <th>y</th>\n",
       "    </tr>\n",
       "  </thead>\n",
       "  <tbody>\n",
       "    <tr>\n",
       "      <th>0</th>\n",
       "      <td>56</td>\n",
       "      <td>housemaid</td>\n",
       "      <td>married</td>\n",
       "      <td>basic.4y</td>\n",
       "      <td>no</td>\n",
       "      <td>no</td>\n",
       "      <td>no</td>\n",
       "      <td>telephone</td>\n",
       "      <td>may</td>\n",
       "      <td>mon</td>\n",
       "      <td>1</td>\n",
       "      <td>nonexistent</td>\n",
       "      <td>1.1</td>\n",
       "      <td>93.994</td>\n",
       "      <td>-36.4</td>\n",
       "      <td>4.857</td>\n",
       "      <td>5191.0</td>\n",
       "      <td>no</td>\n",
       "    </tr>\n",
       "    <tr>\n",
       "      <th>2</th>\n",
       "      <td>37</td>\n",
       "      <td>services</td>\n",
       "      <td>married</td>\n",
       "      <td>high.school</td>\n",
       "      <td>no</td>\n",
       "      <td>yes</td>\n",
       "      <td>no</td>\n",
       "      <td>telephone</td>\n",
       "      <td>may</td>\n",
       "      <td>mon</td>\n",
       "      <td>1</td>\n",
       "      <td>nonexistent</td>\n",
       "      <td>1.1</td>\n",
       "      <td>93.994</td>\n",
       "      <td>-36.4</td>\n",
       "      <td>4.857</td>\n",
       "      <td>5191.0</td>\n",
       "      <td>no</td>\n",
       "    </tr>\n",
       "    <tr>\n",
       "      <th>3</th>\n",
       "      <td>40</td>\n",
       "      <td>admin.</td>\n",
       "      <td>married</td>\n",
       "      <td>basic.6y</td>\n",
       "      <td>no</td>\n",
       "      <td>no</td>\n",
       "      <td>no</td>\n",
       "      <td>telephone</td>\n",
       "      <td>may</td>\n",
       "      <td>mon</td>\n",
       "      <td>1</td>\n",
       "      <td>nonexistent</td>\n",
       "      <td>1.1</td>\n",
       "      <td>93.994</td>\n",
       "      <td>-36.4</td>\n",
       "      <td>4.857</td>\n",
       "      <td>5191.0</td>\n",
       "      <td>no</td>\n",
       "    </tr>\n",
       "    <tr>\n",
       "      <th>4</th>\n",
       "      <td>56</td>\n",
       "      <td>services</td>\n",
       "      <td>married</td>\n",
       "      <td>high.school</td>\n",
       "      <td>no</td>\n",
       "      <td>no</td>\n",
       "      <td>yes</td>\n",
       "      <td>telephone</td>\n",
       "      <td>may</td>\n",
       "      <td>mon</td>\n",
       "      <td>1</td>\n",
       "      <td>nonexistent</td>\n",
       "      <td>1.1</td>\n",
       "      <td>93.994</td>\n",
       "      <td>-36.4</td>\n",
       "      <td>4.857</td>\n",
       "      <td>5191.0</td>\n",
       "      <td>no</td>\n",
       "    </tr>\n",
       "    <tr>\n",
       "      <th>6</th>\n",
       "      <td>59</td>\n",
       "      <td>admin.</td>\n",
       "      <td>married</td>\n",
       "      <td>professional.course</td>\n",
       "      <td>no</td>\n",
       "      <td>no</td>\n",
       "      <td>no</td>\n",
       "      <td>telephone</td>\n",
       "      <td>may</td>\n",
       "      <td>mon</td>\n",
       "      <td>1</td>\n",
       "      <td>nonexistent</td>\n",
       "      <td>1.1</td>\n",
       "      <td>93.994</td>\n",
       "      <td>-36.4</td>\n",
       "      <td>4.857</td>\n",
       "      <td>5191.0</td>\n",
       "      <td>no</td>\n",
       "    </tr>\n",
       "    <tr>\n",
       "      <th>...</th>\n",
       "      <td>...</td>\n",
       "      <td>...</td>\n",
       "      <td>...</td>\n",
       "      <td>...</td>\n",
       "      <td>...</td>\n",
       "      <td>...</td>\n",
       "      <td>...</td>\n",
       "      <td>...</td>\n",
       "      <td>...</td>\n",
       "      <td>...</td>\n",
       "      <td>...</td>\n",
       "      <td>...</td>\n",
       "      <td>...</td>\n",
       "      <td>...</td>\n",
       "      <td>...</td>\n",
       "      <td>...</td>\n",
       "      <td>...</td>\n",
       "      <td>...</td>\n",
       "    </tr>\n",
       "    <tr>\n",
       "      <th>41183</th>\n",
       "      <td>73</td>\n",
       "      <td>retired</td>\n",
       "      <td>married</td>\n",
       "      <td>professional.course</td>\n",
       "      <td>no</td>\n",
       "      <td>yes</td>\n",
       "      <td>no</td>\n",
       "      <td>cellular</td>\n",
       "      <td>nov</td>\n",
       "      <td>fri</td>\n",
       "      <td>1</td>\n",
       "      <td>nonexistent</td>\n",
       "      <td>-1.1</td>\n",
       "      <td>94.767</td>\n",
       "      <td>-50.8</td>\n",
       "      <td>1.028</td>\n",
       "      <td>4963.6</td>\n",
       "      <td>yes</td>\n",
       "    </tr>\n",
       "    <tr>\n",
       "      <th>41184</th>\n",
       "      <td>46</td>\n",
       "      <td>blue-collar</td>\n",
       "      <td>married</td>\n",
       "      <td>professional.course</td>\n",
       "      <td>no</td>\n",
       "      <td>no</td>\n",
       "      <td>no</td>\n",
       "      <td>cellular</td>\n",
       "      <td>nov</td>\n",
       "      <td>fri</td>\n",
       "      <td>1</td>\n",
       "      <td>nonexistent</td>\n",
       "      <td>-1.1</td>\n",
       "      <td>94.767</td>\n",
       "      <td>-50.8</td>\n",
       "      <td>1.028</td>\n",
       "      <td>4963.6</td>\n",
       "      <td>no</td>\n",
       "    </tr>\n",
       "    <tr>\n",
       "      <th>41185</th>\n",
       "      <td>56</td>\n",
       "      <td>retired</td>\n",
       "      <td>married</td>\n",
       "      <td>university.degree</td>\n",
       "      <td>no</td>\n",
       "      <td>yes</td>\n",
       "      <td>no</td>\n",
       "      <td>cellular</td>\n",
       "      <td>nov</td>\n",
       "      <td>fri</td>\n",
       "      <td>2</td>\n",
       "      <td>nonexistent</td>\n",
       "      <td>-1.1</td>\n",
       "      <td>94.767</td>\n",
       "      <td>-50.8</td>\n",
       "      <td>1.028</td>\n",
       "      <td>4963.6</td>\n",
       "      <td>no</td>\n",
       "    </tr>\n",
       "    <tr>\n",
       "      <th>41186</th>\n",
       "      <td>44</td>\n",
       "      <td>technician</td>\n",
       "      <td>married</td>\n",
       "      <td>professional.course</td>\n",
       "      <td>no</td>\n",
       "      <td>no</td>\n",
       "      <td>no</td>\n",
       "      <td>cellular</td>\n",
       "      <td>nov</td>\n",
       "      <td>fri</td>\n",
       "      <td>1</td>\n",
       "      <td>nonexistent</td>\n",
       "      <td>-1.1</td>\n",
       "      <td>94.767</td>\n",
       "      <td>-50.8</td>\n",
       "      <td>1.028</td>\n",
       "      <td>4963.6</td>\n",
       "      <td>yes</td>\n",
       "    </tr>\n",
       "    <tr>\n",
       "      <th>41187</th>\n",
       "      <td>74</td>\n",
       "      <td>retired</td>\n",
       "      <td>married</td>\n",
       "      <td>professional.course</td>\n",
       "      <td>no</td>\n",
       "      <td>yes</td>\n",
       "      <td>no</td>\n",
       "      <td>cellular</td>\n",
       "      <td>nov</td>\n",
       "      <td>fri</td>\n",
       "      <td>3</td>\n",
       "      <td>failure</td>\n",
       "      <td>-1.1</td>\n",
       "      <td>94.767</td>\n",
       "      <td>-50.8</td>\n",
       "      <td>1.028</td>\n",
       "      <td>4963.6</td>\n",
       "      <td>no</td>\n",
       "    </tr>\n",
       "  </tbody>\n",
       "</table>\n",
       "<p>31269 rows × 18 columns</p>\n",
       "</div>"
      ],
      "text/plain": [
       "       age          job  marital            education default housing loan  \\\n",
       "0       56    housemaid  married             basic.4y      no      no   no   \n",
       "2       37     services  married          high.school      no     yes   no   \n",
       "3       40       admin.  married             basic.6y      no      no   no   \n",
       "4       56     services  married          high.school      no      no  yes   \n",
       "6       59       admin.  married  professional.course      no      no   no   \n",
       "...    ...          ...      ...                  ...     ...     ...  ...   \n",
       "41183   73      retired  married  professional.course      no     yes   no   \n",
       "41184   46  blue-collar  married  professional.course      no      no   no   \n",
       "41185   56      retired  married    university.degree      no     yes   no   \n",
       "41186   44   technician  married  professional.course      no      no   no   \n",
       "41187   74      retired  married  professional.course      no     yes   no   \n",
       "\n",
       "         contact month day_of_week  campaign     poutcome  emp.var.rate  \\\n",
       "0      telephone   may         mon         1  nonexistent           1.1   \n",
       "2      telephone   may         mon         1  nonexistent           1.1   \n",
       "3      telephone   may         mon         1  nonexistent           1.1   \n",
       "4      telephone   may         mon         1  nonexistent           1.1   \n",
       "6      telephone   may         mon         1  nonexistent           1.1   \n",
       "...          ...   ...         ...       ...          ...           ...   \n",
       "41183   cellular   nov         fri         1  nonexistent          -1.1   \n",
       "41184   cellular   nov         fri         1  nonexistent          -1.1   \n",
       "41185   cellular   nov         fri         2  nonexistent          -1.1   \n",
       "41186   cellular   nov         fri         1  nonexistent          -1.1   \n",
       "41187   cellular   nov         fri         3      failure          -1.1   \n",
       "\n",
       "       cons.price.idx  cons.conf.idx  euribor3m  nr.employed    y  \n",
       "0              93.994          -36.4      4.857       5191.0   no  \n",
       "2              93.994          -36.4      4.857       5191.0   no  \n",
       "3              93.994          -36.4      4.857       5191.0   no  \n",
       "4              93.994          -36.4      4.857       5191.0   no  \n",
       "6              93.994          -36.4      4.857       5191.0   no  \n",
       "...               ...            ...        ...          ...  ...  \n",
       "41183          94.767          -50.8      1.028       4963.6  yes  \n",
       "41184          94.767          -50.8      1.028       4963.6   no  \n",
       "41185          94.767          -50.8      1.028       4963.6   no  \n",
       "41186          94.767          -50.8      1.028       4963.6  yes  \n",
       "41187          94.767          -50.8      1.028       4963.6   no  \n",
       "\n",
       "[31269 rows x 18 columns]"
      ]
     },
     "execution_count": 55,
     "metadata": {},
     "output_type": "execute_result"
    }
   ],
   "source": [
    "df1"
   ]
  },
  {
   "cell_type": "markdown",
   "metadata": {
    "id": "DGnCFxndNBk1"
   },
   "source": [
    "We randomly inserted duplicate rows in the minority class (data having target value 'YES') and upsampled it into around 30% target 'YES' values. "
   ]
  },
  {
   "cell_type": "markdown",
   "metadata": {
    "id": "thqATJvKVHGO"
   },
   "source": [
    "### **3.3 Outlier Detection**"
   ]
  },
  {
   "cell_type": "code",
   "execution_count": 56,
   "metadata": {
    "colab": {
     "base_uri": "https://localhost:8080/",
     "height": 436
    },
    "executionInfo": {
     "elapsed": 42,
     "status": "ok",
     "timestamp": 1646749482754,
     "user": {
      "displayName": "DSA batch2",
      "photoUrl": "https://lh3.googleusercontent.com/a/default-user=s64",
      "userId": "12491673681855205206"
     },
     "user_tz": -330
    },
    "id": "1sKhZmsXVL9W",
    "outputId": "776fa2d4-2477-41c9-efd4-d361931e20dd"
   },
   "outputs": [
    {
     "data": {
      "image/png": "[encoded data removed]",
      "text/plain": [
       "<Figure size 288x432 with 2 Axes>"
      ]
     },
     "metadata": {},
     "output_type": "display_data"
    }
   ],
   "source": [
    "plt.figure(figsize=(4,6))\n",
    "plt.subplot(2,1,1)\n",
    "sns.boxplot(y=df1['age'])\n",
    "plt.title(\"Age\")\n",
    "plt.subplot(2,1,2)\n",
    "plt.title(\"Number of contacts\")\n",
    "sns.boxplot(y=df1['campaign'])\n",
    "plt.tight_layout() \n",
    "plt.show()"
   ]
  },
  {
   "cell_type": "markdown",
   "metadata": {
    "id": "B8WR7qXXXRGX"
   },
   "source": [
    "'Campaign' and 'age' show outliers "
   ]
  },
  {
   "cell_type": "code",
   "execution_count": 57,
   "metadata": {
    "executionInfo": {
     "elapsed": 40,
     "status": "ok",
     "timestamp": 1646749482755,
     "user": {
      "displayName": "DSA batch2",
      "photoUrl": "https://lh3.googleusercontent.com/a/default-user=s64",
      "userId": "12491673681855205206"
     },
     "user_tz": -330
    },
    "id": "uJjjjkxJW3Kc"
   },
   "outputs": [],
   "source": [
    "for i in [\"age\", \"campaign\"]:\n",
    "        for j in df1[\"y\"].unique():\n",
    "            target_type = df1[df1[\"y\"] == j]\n",
    "            column = target_type[i]\n",
    "            q1 = column.quantile(0.25) \n",
    "            q3 = column.quantile(0.75) \n",
    "            iqr = q3 - q1 \n",
    "            upper_limit = q3 + 1.5 * iqr\n",
    "            lower_limit = q1 - 1.5 * iqr        \n",
    "            outliers = column[(column > upper_limit) | (column < lower_limit)].index \n",
    "            df1.drop(index= outliers, inplace=True)"
   ]
  },
  {
   "cell_type": "code",
   "execution_count": 58,
   "metadata": {
    "colab": {
     "base_uri": "https://localhost:8080/",
     "height": 437
    },
    "executionInfo": {
     "elapsed": 713,
     "status": "ok",
     "timestamp": 1646749483429,
     "user": {
      "displayName": "DSA batch2",
      "photoUrl": "https://lh3.googleusercontent.com/a/default-user=s64",
      "userId": "12491673681855205206"
     },
     "user_tz": -330
    },
    "id": "bhQm2_ONW28B",
    "outputId": "5b46828a-9412-4815-fc01-c17c41901f06"
   },
   "outputs": [
    {
     "data": {
      "image/png": "[encoded data removed]",
      "text/plain": [
       "<Figure size 288x432 with 2 Axes>"
      ]
     },
     "metadata": {},
     "output_type": "display_data"
    }
   ],
   "source": [
    "plt.figure(figsize=(4,6))\n",
    "plt.subplot(2,1,1)\n",
    "sns.boxplot(y=df1['age'])\n",
    "plt.title(\"Age\")\n",
    "plt.subplot(2,1,2)\n",
    "plt.title(\"Number of contacts\")\n",
    "sns.boxplot(y=df1['campaign'])\n",
    "plt.tight_layout() \n",
    "plt.show()"
   ]
  },
  {
   "cell_type": "markdown",
   "metadata": {
    "id": "5uA6oRWVZow0"
   },
   "source": [
    "Outliers are removed"
   ]
  },
  {
   "cell_type": "code",
   "execution_count": 59,
   "metadata": {
    "colab": {
     "base_uri": "https://localhost:8080/"
    },
    "executionInfo": {
     "elapsed": 52,
     "status": "ok",
     "timestamp": 1646749483435,
     "user": {
      "displayName": "DSA batch2",
      "photoUrl": "https://lh3.googleusercontent.com/a/default-user=s64",
      "userId": "12491673681855205206"
     },
     "user_tz": -330
    },
    "id": "ussvVCr-Zr1w",
    "outputId": "f53d060c-809d-41d5-e2f1-c91b974ee6ae"
   },
   "outputs": [
    {
     "data": {
      "text/plain": [
       "no     24766\n",
       "yes     4005\n",
       "Name: y, dtype: int64"
      ]
     },
     "execution_count": 59,
     "metadata": {},
     "output_type": "execute_result"
    }
   ],
   "source": [
    "df1.y.value_counts()"
   ]
  },
  {
   "cell_type": "markdown",
   "metadata": {
    "id": "cWfciJnLce6w"
   },
   "source": [
    "### **3.4 Feature Engineering**"
   ]
  },
  {
   "cell_type": "code",
   "execution_count": 60,
   "metadata": {
    "executionInfo": {
     "elapsed": 44,
     "status": "ok",
     "timestamp": 1646749483438,
     "user": {
      "displayName": "DSA batch2",
      "photoUrl": "https://lh3.googleusercontent.com/a/default-user=s64",
      "userId": "12491673681855205206"
     },
     "user_tz": -330
    },
    "id": "WAnqlD6mcxlO"
   },
   "outputs": [],
   "source": [
    "df1[\"any_loan\"]=(df1[\"housing\"]=='yes')| (df1[\"loan\"]=='yes')"
   ]
  },
  {
   "cell_type": "code",
   "execution_count": 61,
   "metadata": {
    "colab": {
     "base_uri": "https://localhost:8080/"
    },
    "executionInfo": {
     "elapsed": 45,
     "status": "ok",
     "timestamp": 1646749483441,
     "user": {
      "displayName": "DSA batch2",
      "photoUrl": "https://lh3.googleusercontent.com/a/default-user=s64",
      "userId": "12491673681855205206"
     },
     "user_tz": -330
    },
    "id": "UOG_h3pLc5Cy",
    "outputId": "abba7341-b50c-47af-8755-b0dc51783799"
   },
   "outputs": [
    {
     "data": {
      "text/plain": [
       "True     17358\n",
       "False    11413\n",
       "Name: any_loan, dtype: int64"
      ]
     },
     "execution_count": 61,
     "metadata": {},
     "output_type": "execute_result"
    }
   ],
   "source": [
    "df1[\"any_loan\"].value_counts()"
   ]
  },
  {
   "cell_type": "markdown",
   "metadata": {
    "id": "Z4tbIyx_bXS6"
   },
   "source": [
    "### **3.5 Label Encoding**"
   ]
  },
  {
   "cell_type": "code",
   "execution_count": 62,
   "metadata": {
    "colab": {
     "base_uri": "https://localhost:8080/",
     "height": 270
    },
    "executionInfo": {
     "elapsed": 478,
     "status": "ok",
     "timestamp": 1646749483884,
     "user": {
      "displayName": "DSA batch2",
      "photoUrl": "https://lh3.googleusercontent.com/a/default-user=s64",
      "userId": "12491673681855205206"
     },
     "user_tz": -330
    },
    "id": "E-mjsDkfaeNX",
    "outputId": "70ec75cf-4d8f-4df2-ba7f-2ec13fe778d8"
   },
   "outputs": [
    {
     "data": {
      "text/html": [
       "<div>\n",
       "<style scoped>\n",
       "    .dataframe tbody tr th:only-of-type {\n",
       "        vertical-align: middle;\n",
       "    }\n",
       "\n",
       "    .dataframe tbody tr th {\n",
       "        vertical-align: top;\n",
       "    }\n",
       "\n",
       "    .dataframe thead th {\n",
       "        text-align: right;\n",
       "    }\n",
       "</style>\n",
       "<table border=\"1\" class=\"dataframe\">\n",
       "  <thead>\n",
       "    <tr style=\"text-align: right;\">\n",
       "      <th></th>\n",
       "      <th>age</th>\n",
       "      <th>job</th>\n",
       "      <th>marital</th>\n",
       "      <th>education</th>\n",
       "      <th>default</th>\n",
       "      <th>housing</th>\n",
       "      <th>loan</th>\n",
       "      <th>contact</th>\n",
       "      <th>month</th>\n",
       "      <th>day_of_week</th>\n",
       "      <th>campaign</th>\n",
       "      <th>poutcome</th>\n",
       "      <th>emp.var.rate</th>\n",
       "      <th>cons.price.idx</th>\n",
       "      <th>cons.conf.idx</th>\n",
       "      <th>euribor3m</th>\n",
       "      <th>nr.employed</th>\n",
       "      <th>y</th>\n",
       "      <th>any_loan</th>\n",
       "    </tr>\n",
       "  </thead>\n",
       "  <tbody>\n",
       "    <tr>\n",
       "      <th>0</th>\n",
       "      <td>56</td>\n",
       "      <td>3</td>\n",
       "      <td>1</td>\n",
       "      <td>0</td>\n",
       "      <td>0</td>\n",
       "      <td>0</td>\n",
       "      <td>0</td>\n",
       "      <td>1</td>\n",
       "      <td>6</td>\n",
       "      <td>1</td>\n",
       "      <td>1</td>\n",
       "      <td>1</td>\n",
       "      <td>1.1</td>\n",
       "      <td>93.994</td>\n",
       "      <td>-36.4</td>\n",
       "      <td>4.857</td>\n",
       "      <td>5191.0</td>\n",
       "      <td>no</td>\n",
       "      <td>0</td>\n",
       "    </tr>\n",
       "    <tr>\n",
       "      <th>2</th>\n",
       "      <td>37</td>\n",
       "      <td>7</td>\n",
       "      <td>1</td>\n",
       "      <td>3</td>\n",
       "      <td>0</td>\n",
       "      <td>2</td>\n",
       "      <td>0</td>\n",
       "      <td>1</td>\n",
       "      <td>6</td>\n",
       "      <td>1</td>\n",
       "      <td>1</td>\n",
       "      <td>1</td>\n",
       "      <td>1.1</td>\n",
       "      <td>93.994</td>\n",
       "      <td>-36.4</td>\n",
       "      <td>4.857</td>\n",
       "      <td>5191.0</td>\n",
       "      <td>no</td>\n",
       "      <td>1</td>\n",
       "    </tr>\n",
       "    <tr>\n",
       "      <th>3</th>\n",
       "      <td>40</td>\n",
       "      <td>0</td>\n",
       "      <td>1</td>\n",
       "      <td>1</td>\n",
       "      <td>0</td>\n",
       "      <td>0</td>\n",
       "      <td>0</td>\n",
       "      <td>1</td>\n",
       "      <td>6</td>\n",
       "      <td>1</td>\n",
       "      <td>1</td>\n",
       "      <td>1</td>\n",
       "      <td>1.1</td>\n",
       "      <td>93.994</td>\n",
       "      <td>-36.4</td>\n",
       "      <td>4.857</td>\n",
       "      <td>5191.0</td>\n",
       "      <td>no</td>\n",
       "      <td>0</td>\n",
       "    </tr>\n",
       "    <tr>\n",
       "      <th>4</th>\n",
       "      <td>56</td>\n",
       "      <td>7</td>\n",
       "      <td>1</td>\n",
       "      <td>3</td>\n",
       "      <td>0</td>\n",
       "      <td>0</td>\n",
       "      <td>2</td>\n",
       "      <td>1</td>\n",
       "      <td>6</td>\n",
       "      <td>1</td>\n",
       "      <td>1</td>\n",
       "      <td>1</td>\n",
       "      <td>1.1</td>\n",
       "      <td>93.994</td>\n",
       "      <td>-36.4</td>\n",
       "      <td>4.857</td>\n",
       "      <td>5191.0</td>\n",
       "      <td>no</td>\n",
       "      <td>1</td>\n",
       "    </tr>\n",
       "    <tr>\n",
       "      <th>6</th>\n",
       "      <td>59</td>\n",
       "      <td>0</td>\n",
       "      <td>1</td>\n",
       "      <td>5</td>\n",
       "      <td>0</td>\n",
       "      <td>0</td>\n",
       "      <td>0</td>\n",
       "      <td>1</td>\n",
       "      <td>6</td>\n",
       "      <td>1</td>\n",
       "      <td>1</td>\n",
       "      <td>1</td>\n",
       "      <td>1.1</td>\n",
       "      <td>93.994</td>\n",
       "      <td>-36.4</td>\n",
       "      <td>4.857</td>\n",
       "      <td>5191.0</td>\n",
       "      <td>no</td>\n",
       "      <td>0</td>\n",
       "    </tr>\n",
       "  </tbody>\n",
       "</table>\n",
       "</div>"
      ],
      "text/plain": [
       "   age  job  marital  education  default  housing  loan  contact  month  \\\n",
       "0   56    3        1          0        0        0     0        1      6   \n",
       "2   37    7        1          3        0        2     0        1      6   \n",
       "3   40    0        1          1        0        0     0        1      6   \n",
       "4   56    7        1          3        0        0     2        1      6   \n",
       "6   59    0        1          5        0        0     0        1      6   \n",
       "\n",
       "   day_of_week  campaign  poutcome  emp.var.rate  cons.price.idx  \\\n",
       "0            1         1         1           1.1          93.994   \n",
       "2            1         1         1           1.1          93.994   \n",
       "3            1         1         1           1.1          93.994   \n",
       "4            1         1         1           1.1          93.994   \n",
       "6            1         1         1           1.1          93.994   \n",
       "\n",
       "   cons.conf.idx  euribor3m  nr.employed   y  any_loan  \n",
       "0          -36.4      4.857       5191.0  no         0  \n",
       "2          -36.4      4.857       5191.0  no         1  \n",
       "3          -36.4      4.857       5191.0  no         0  \n",
       "4          -36.4      4.857       5191.0  no         1  \n",
       "6          -36.4      4.857       5191.0  no         0  "
      ]
     },
     "execution_count": 62,
     "metadata": {},
     "output_type": "execute_result"
    }
   ],
   "source": [
    "from sklearn.preprocessing import LabelEncoder\n",
    "label_en=LabelEncoder()\n",
    "for i in df1.columns:\n",
    "    if df1[i].dtype ==  bool or df1[i].dtype == object and i!='y':\n",
    "        df1[i]=label_en.fit_transform(df1[i])\n",
    "df1.head()"
   ]
  },
  {
   "cell_type": "markdown",
   "metadata": {
    "id": "8Sndt_rHfJW-"
   },
   "source": [
    "### **3.6 Normalisation**"
   ]
  },
  {
   "cell_type": "markdown",
   "metadata": {
    "id": "gbjbBVKHfU2P"
   },
   "source": [
    "We need to split dataset before normalisation\n"
   ]
  },
  {
   "cell_type": "code",
   "execution_count": 63,
   "metadata": {
    "executionInfo": {
     "elapsed": 21,
     "status": "ok",
     "timestamp": 1646749483895,
     "user": {
      "displayName": "DSA batch2",
      "photoUrl": "https://lh3.googleusercontent.com/a/default-user=s64",
      "userId": "12491673681855205206"
     },
     "user_tz": -330
    },
    "id": "R1xHYm68cNDQ"
   },
   "outputs": [],
   "source": [
    "y = df1['y']\n",
    "x = df1.drop('y', axis = 1)"
   ]
  },
  {
   "cell_type": "code",
   "execution_count": 64,
   "metadata": {
    "colab": {
     "base_uri": "https://localhost:8080/",
     "height": 364
    },
    "executionInfo": {
     "elapsed": 864,
     "status": "ok",
     "timestamp": 1646749484739,
     "user": {
      "displayName": "DSA batch2",
      "photoUrl": "https://lh3.googleusercontent.com/a/default-user=s64",
      "userId": "12491673681855205206"
     },
     "user_tz": -330
    },
    "id": "GlC2Vt4NcN9m",
    "outputId": "28466d9e-a5af-4a55-c772-d56902cbc539"
   },
   "outputs": [
    {
     "data": {
      "text/html": [
       "<div>\n",
       "<style scoped>\n",
       "    .dataframe tbody tr th:only-of-type {\n",
       "        vertical-align: middle;\n",
       "    }\n",
       "\n",
       "    .dataframe tbody tr th {\n",
       "        vertical-align: top;\n",
       "    }\n",
       "\n",
       "    .dataframe thead th {\n",
       "        text-align: right;\n",
       "    }\n",
       "</style>\n",
       "<table border=\"1\" class=\"dataframe\">\n",
       "  <thead>\n",
       "    <tr style=\"text-align: right;\">\n",
       "      <th></th>\n",
       "      <th>age</th>\n",
       "      <th>job</th>\n",
       "      <th>marital</th>\n",
       "      <th>education</th>\n",
       "      <th>default</th>\n",
       "      <th>housing</th>\n",
       "      <th>loan</th>\n",
       "      <th>contact</th>\n",
       "      <th>month</th>\n",
       "      <th>day_of_week</th>\n",
       "      <th>campaign</th>\n",
       "      <th>poutcome</th>\n",
       "      <th>emp.var.rate</th>\n",
       "      <th>cons.price.idx</th>\n",
       "      <th>cons.conf.idx</th>\n",
       "      <th>euribor3m</th>\n",
       "      <th>nr.employed</th>\n",
       "      <th>any_loan</th>\n",
       "    </tr>\n",
       "  </thead>\n",
       "  <tbody>\n",
       "    <tr>\n",
       "      <th>count</th>\n",
       "      <td>28771.000000</td>\n",
       "      <td>28771.000000</td>\n",
       "      <td>28771.000000</td>\n",
       "      <td>28771.000000</td>\n",
       "      <td>28771.000000</td>\n",
       "      <td>28771.000000</td>\n",
       "      <td>28771.000000</td>\n",
       "      <td>28771.000000</td>\n",
       "      <td>28771.000000</td>\n",
       "      <td>28771.000000</td>\n",
       "      <td>28771.000000</td>\n",
       "      <td>28771.000000</td>\n",
       "      <td>28771.000000</td>\n",
       "      <td>28771.000000</td>\n",
       "      <td>28771.000000</td>\n",
       "      <td>28771.000000</td>\n",
       "      <td>28771.000000</td>\n",
       "      <td>28771.000000</td>\n",
       "    </tr>\n",
       "    <tr>\n",
       "      <th>mean</th>\n",
       "      <td>0.007499</td>\n",
       "      <td>0.000721</td>\n",
       "      <td>0.000233</td>\n",
       "      <td>0.000749</td>\n",
       "      <td>0.000002</td>\n",
       "      <td>0.000210</td>\n",
       "      <td>0.000061</td>\n",
       "      <td>0.000063</td>\n",
       "      <td>0.000831</td>\n",
       "      <td>0.000392</td>\n",
       "      <td>0.000385</td>\n",
       "      <td>0.000179</td>\n",
       "      <td>-0.000022</td>\n",
       "      <td>0.018123</td>\n",
       "      <td>-0.007874</td>\n",
       "      <td>0.000662</td>\n",
       "      <td>0.999772</td>\n",
       "      <td>0.000117</td>\n",
       "    </tr>\n",
       "    <tr>\n",
       "      <th>std</th>\n",
       "      <td>0.001892</td>\n",
       "      <td>0.000704</td>\n",
       "      <td>0.000121</td>\n",
       "      <td>0.000386</td>\n",
       "      <td>0.000022</td>\n",
       "      <td>0.000193</td>\n",
       "      <td>0.000141</td>\n",
       "      <td>0.000090</td>\n",
       "      <td>0.000468</td>\n",
       "      <td>0.000271</td>\n",
       "      <td>0.000238</td>\n",
       "      <td>0.000077</td>\n",
       "      <td>0.000314</td>\n",
       "      <td>0.000236</td>\n",
       "      <td>0.000953</td>\n",
       "      <td>0.000338</td>\n",
       "      <td>0.000018</td>\n",
       "      <td>0.000095</td>\n",
       "    </tr>\n",
       "    <tr>\n",
       "      <th>min</th>\n",
       "      <td>0.003348</td>\n",
       "      <td>0.000000</td>\n",
       "      <td>0.000000</td>\n",
       "      <td>0.000000</td>\n",
       "      <td>0.000000</td>\n",
       "      <td>0.000000</td>\n",
       "      <td>0.000000</td>\n",
       "      <td>0.000000</td>\n",
       "      <td>0.000000</td>\n",
       "      <td>0.000000</td>\n",
       "      <td>0.000191</td>\n",
       "      <td>0.000000</td>\n",
       "      <td>-0.000677</td>\n",
       "      <td>0.017869</td>\n",
       "      <td>-0.010232</td>\n",
       "      <td>0.000127</td>\n",
       "      <td>0.999655</td>\n",
       "      <td>0.000000</td>\n",
       "    </tr>\n",
       "    <tr>\n",
       "      <th>25%</th>\n",
       "      <td>0.006078</td>\n",
       "      <td>0.000000</td>\n",
       "      <td>0.000191</td>\n",
       "      <td>0.000392</td>\n",
       "      <td>0.000000</td>\n",
       "      <td>0.000000</td>\n",
       "      <td>0.000000</td>\n",
       "      <td>0.000000</td>\n",
       "      <td>0.000574</td>\n",
       "      <td>0.000191</td>\n",
       "      <td>0.000193</td>\n",
       "      <td>0.000191</td>\n",
       "      <td>-0.000353</td>\n",
       "      <td>0.017960</td>\n",
       "      <td>-0.008166</td>\n",
       "      <td>0.000257</td>\n",
       "      <td>0.999763</td>\n",
       "      <td>0.000000</td>\n",
       "    </tr>\n",
       "    <tr>\n",
       "      <th>50%</th>\n",
       "      <td>0.007076</td>\n",
       "      <td>0.000385</td>\n",
       "      <td>0.000196</td>\n",
       "      <td>0.000598</td>\n",
       "      <td>0.000000</td>\n",
       "      <td>0.000382</td>\n",
       "      <td>0.000000</td>\n",
       "      <td>0.000000</td>\n",
       "      <td>0.000801</td>\n",
       "      <td>0.000385</td>\n",
       "      <td>0.000382</td>\n",
       "      <td>0.000192</td>\n",
       "      <td>0.000212</td>\n",
       "      <td>0.018103</td>\n",
       "      <td>-0.008036</td>\n",
       "      <td>0.000931</td>\n",
       "      <td>0.999775</td>\n",
       "      <td>0.000191</td>\n",
       "    </tr>\n",
       "    <tr>\n",
       "      <th>75%</th>\n",
       "      <td>0.008797</td>\n",
       "      <td>0.001372</td>\n",
       "      <td>0.000382</td>\n",
       "      <td>0.001147</td>\n",
       "      <td>0.000000</td>\n",
       "      <td>0.000385</td>\n",
       "      <td>0.000000</td>\n",
       "      <td>0.000191</td>\n",
       "      <td>0.001176</td>\n",
       "      <td>0.000588</td>\n",
       "      <td>0.000574</td>\n",
       "      <td>0.000196</td>\n",
       "      <td>0.000268</td>\n",
       "      <td>0.018213</td>\n",
       "      <td>-0.007011</td>\n",
       "      <td>0.000949</td>\n",
       "      <td>0.999786</td>\n",
       "      <td>0.000193</td>\n",
       "    </tr>\n",
       "    <tr>\n",
       "      <th>max</th>\n",
       "      <td>0.015621</td>\n",
       "      <td>0.002215</td>\n",
       "      <td>0.000599</td>\n",
       "      <td>0.001410</td>\n",
       "      <td>0.000385</td>\n",
       "      <td>0.000403</td>\n",
       "      <td>0.000403</td>\n",
       "      <td>0.000201</td>\n",
       "      <td>0.001813</td>\n",
       "      <td>0.000806</td>\n",
       "      <td>0.001208</td>\n",
       "      <td>0.000403</td>\n",
       "      <td>0.000268</td>\n",
       "      <td>0.019088</td>\n",
       "      <td>-0.005360</td>\n",
       "      <td>0.000971</td>\n",
       "      <td>0.999809</td>\n",
       "      <td>0.000201</td>\n",
       "    </tr>\n",
       "  </tbody>\n",
       "</table>\n",
       "</div>"
      ],
      "text/plain": [
       "                age           job       marital     education       default  \\\n",
       "count  28771.000000  28771.000000  28771.000000  28771.000000  28771.000000   \n",
       "mean       0.007499      0.000721      0.000233      0.000749      0.000002   \n",
       "std        0.001892      0.000704      0.000121      0.000386      0.000022   \n",
       "min        0.003348      0.000000      0.000000      0.000000      0.000000   \n",
       "25%        0.006078      0.000000      0.000191      0.000392      0.000000   \n",
       "50%        0.007076      0.000385      0.000196      0.000598      0.000000   \n",
       "75%        0.008797      0.001372      0.000382      0.001147      0.000000   \n",
       "max        0.015621      0.002215      0.000599      0.001410      0.000385   \n",
       "\n",
       "            housing          loan       contact         month   day_of_week  \\\n",
       "count  28771.000000  28771.000000  28771.000000  28771.000000  28771.000000   \n",
       "mean       0.000210      0.000061      0.000063      0.000831      0.000392   \n",
       "std        0.000193      0.000141      0.000090      0.000468      0.000271   \n",
       "min        0.000000      0.000000      0.000000      0.000000      0.000000   \n",
       "25%        0.000000      0.000000      0.000000      0.000574      0.000191   \n",
       "50%        0.000382      0.000000      0.000000      0.000801      0.000385   \n",
       "75%        0.000385      0.000000      0.000191      0.001176      0.000588   \n",
       "max        0.000403      0.000403      0.000201      0.001813      0.000806   \n",
       "\n",
       "           campaign      poutcome  emp.var.rate  cons.price.idx  \\\n",
       "count  28771.000000  28771.000000  28771.000000    28771.000000   \n",
       "mean       0.000385      0.000179     -0.000022        0.018123   \n",
       "std        0.000238      0.000077      0.000314        0.000236   \n",
       "min        0.000191      0.000000     -0.000677        0.017869   \n",
       "25%        0.000193      0.000191     -0.000353        0.017960   \n",
       "50%        0.000382      0.000192      0.000212        0.018103   \n",
       "75%        0.000574      0.000196      0.000268        0.018213   \n",
       "max        0.001208      0.000403      0.000268        0.019088   \n",
       "\n",
       "       cons.conf.idx     euribor3m   nr.employed      any_loan  \n",
       "count   28771.000000  28771.000000  28771.000000  28771.000000  \n",
       "mean       -0.007874      0.000662      0.999772      0.000117  \n",
       "std         0.000953      0.000338      0.000018      0.000095  \n",
       "min        -0.010232      0.000127      0.999655      0.000000  \n",
       "25%        -0.008166      0.000257      0.999763      0.000000  \n",
       "50%        -0.008036      0.000931      0.999775      0.000191  \n",
       "75%        -0.007011      0.000949      0.999786      0.000193  \n",
       "max        -0.005360      0.000971      0.999809      0.000201  "
      ]
     },
     "execution_count": 64,
     "metadata": {},
     "output_type": "execute_result"
    }
   ],
   "source": [
    "from sklearn.preprocessing import normalize\n",
    "X = normalize(x)\n",
    "X = pd.DataFrame(X, columns = x.columns)\n",
    "X.describe()"
   ]
  },
  {
   "cell_type": "markdown",
   "metadata": {
    "id": "KlsKLFmsgU7I"
   },
   "source": [
    "### **3.7 Feature Reduction**"
   ]
  },
  {
   "cell_type": "code",
   "execution_count": 65,
   "metadata": {
    "colab": {
     "base_uri": "https://localhost:8080/",
     "height": 991
    },
    "executionInfo": {
     "elapsed": 10075,
     "status": "ok",
     "timestamp": 1646749494794,
     "user": {
      "displayName": "DSA batch2",
      "photoUrl": "https://lh3.googleusercontent.com/a/default-user=s64",
      "userId": "12491673681855205206"
     },
     "user_tz": -330
    },
    "id": "40RZ7LKPgnzl",
    "outputId": "a50b8cd1-42af-4594-b9d7-3336b580d587"
   },
   "outputs": [
    {
     "data": {
      "image/png": "[encoded data removed]",
      "text/plain": [
       "<Figure size 1152x1152 with 2 Axes>"
      ]
     },
     "metadata": {},
     "output_type": "display_data"
    }
   ],
   "source": [
    "corr=X.corr()\n",
    "plt.figure(figsize=(16,16))\n",
    "ax = sns.heatmap(corr, annot=True, linewidths=0.1, linecolor='white',cmap=\"YlGnBu\")"
   ]
  },
  {
   "cell_type": "markdown",
   "metadata": {
    "id": "tsW1qRsshjmW"
   },
   "source": [
    "Removing features having  .8 and higher or -.8 and lesser correlation "
   ]
  },
  {
   "cell_type": "code",
   "execution_count": 66,
   "metadata": {
    "executionInfo": {
     "elapsed": 115,
     "status": "ok",
     "timestamp": 1646749494801,
     "user": {
      "displayName": "DSA batch2",
      "photoUrl": "https://lh3.googleusercontent.com/a/default-user=s64",
      "userId": "12491673681855205206"
     },
     "user_tz": -330
    },
    "id": "XardKTn7hchU"
   },
   "outputs": [],
   "source": [
    "columns = np.full((corr.shape[0]), True, dtype=bool)\n",
    "for i in range(corr.shape[0]):\n",
    "    for j in range(i+1, corr.shape[0]):\n",
    "        if corr.iloc[i,j] >= 0.8 or corr.iloc[i,j] <= -0.8:\n",
    "            if columns[i]:\n",
    "                columns[i] = False\n",
    "selected_columns = X.columns[columns]\n",
    "X = X[selected_columns]"
   ]
  },
  {
   "cell_type": "code",
   "execution_count": 67,
   "metadata": {
    "colab": {
     "base_uri": "https://localhost:8080/"
    },
    "executionInfo": {
     "elapsed": 115,
     "status": "ok",
     "timestamp": 1646749494804,
     "user": {
      "displayName": "DSA batch2",
      "photoUrl": "https://lh3.googleusercontent.com/a/default-user=s64",
      "userId": "12491673681855205206"
     },
     "user_tz": -330
    },
    "id": "__E2cKFoiCNT",
    "outputId": "a186b979-835d-48aa-8932-027c1f7d251e"
   },
   "outputs": [
    {
     "data": {
      "text/plain": [
       "Index(['job', 'marital', 'education', 'default', 'loan', 'contact', 'month',\n",
       "       'day_of_week', 'campaign', 'poutcome', 'cons.price.idx',\n",
       "       'cons.conf.idx', 'euribor3m', 'nr.employed', 'any_loan'],\n",
       "      dtype='object')"
      ]
     },
     "execution_count": 67,
     "metadata": {},
     "output_type": "execute_result"
    }
   ],
   "source": [
    "X.columns"
   ]
  },
  {
   "cell_type": "markdown",
   "metadata": {
    "id": "tPdLdQ5eip-b"
   },
   "source": [
    "Features 'age', 'housing', 'emp.var.rate' are removed"
   ]
  },
  {
   "cell_type": "markdown",
   "metadata": {},
   "source": [
    "## Modeling"
   ]
  },
  {
   "cell_type": "code",
   "execution_count": 68,
   "metadata": {},
   "outputs": [],
   "source": [
    "#importing train_test_split library from model_selection\n",
    "from sklearn.model_selection import train_test_split\n",
    "#creating the instances\n",
    "X_train, X_test, y_train, y_test=train_test_split(X,y,random_state=42,test_size=.2)"
   ]
  },
  {
   "cell_type": "code",
   "execution_count": 69,
   "metadata": {},
   "outputs": [
    {
     "data": {
      "text/plain": [
       "(23016, 15)"
      ]
     },
     "execution_count": 69,
     "metadata": {},
     "output_type": "execute_result"
    }
   ],
   "source": [
    "X_train.shape"
   ]
  },
  {
   "cell_type": "code",
   "execution_count": 70,
   "metadata": {},
   "outputs": [
    {
     "data": {
      "text/plain": [
       "(5755,)"
      ]
     },
     "execution_count": 70,
     "metadata": {},
     "output_type": "execute_result"
    }
   ],
   "source": [
    "y_test.shape"
   ]
  },
  {
   "cell_type": "code",
   "execution_count": 71,
   "metadata": {},
   "outputs": [],
   "source": [
    "#importing logistic regression from linear model\n",
    "from sklearn.linear_model import LogisticRegression\n",
    "logit_model = LogisticRegression()\n",
    "logit_model.fit(X_train,y_train)\n",
    "y_predict = logit_model.predict(X_test)"
   ]
  },
  {
   "cell_type": "code",
   "execution_count": 72,
   "metadata": {},
   "outputs": [],
   "source": [
    "from sklearn.metrics import confusion_matrix, accuracy_score, precision_score, recall_score, f1_score"
   ]
  },
  {
   "cell_type": "code",
   "execution_count": 73,
   "metadata": {},
   "outputs": [
    {
     "name": "stdout",
     "output_type": "stream",
     "text": [
      "Accuracy is : 0.8648132059079062\n",
      "Precision is : 0.4324066029539531\n",
      "Recall is : 0.5\n",
      "F1 score is : 0.4637532612746926\n",
      "\n",
      "\n",
      "\n",
      "Confusion matrix\n",
      "\n",
      " [[4977    0]\n",
      " [ 778    0]]\n"
     ]
    },
    {
     "name": "stderr",
     "output_type": "stream",
     "text": [
      "E:\\anaconda3\\lib\\site-packages\\sklearn\\metrics\\_classification.py:1245: UndefinedMetricWarning: Precision is ill-defined and being set to 0.0 in labels with no predicted samples. Use `zero_division` parameter to control this behavior.\n",
      "  _warn_prf(average, modifier, msg_start, len(result))\n"
     ]
    }
   ],
   "source": [
    "print(\"Accuracy is :\", accuracy_score(y_test,y_predict))\n",
    "print(\"Precision is :\", precision_score(y_test,y_predict, average='macro'))\n",
    "print(\"Recall is :\", recall_score(y_test,y_predict, average='macro'))\n",
    "print(\"F1 score is :\", f1_score(y_test,y_predict, average='macro'))\n",
    "print('\\n\\n\\nConfusion matrix\\n\\n',confusion_matrix(y_test,y_predict))"
   ]
  },
  {
   "cell_type": "code",
   "execution_count": 74,
   "metadata": {},
   "outputs": [],
   "source": [
    "from sklearn.neighbors import KNeighborsClassifier"
   ]
  },
  {
   "cell_type": "code",
   "execution_count": null,
   "metadata": {},
   "outputs": [],
   "source": [
    "#creating empty list for finding optimal K values(Accuracy values)\n",
    "acc_value = []\n",
    "#creating neighbors as 3 to 15\n",
    "neighbors = np.arange(3,15)\n",
    "for k in neighbors:\n",
    "    # taking instances for KNN into variable name classifier using the method minkowski\n",
    "    classifier = KNeighborsClassifier(n_neighbors=k, metric=\"minkowski\")\n",
    "    classifier.fit(X_train,y_train)\n",
    "    y_pred = classifier.predict(X_test)\n",
    "    acc = accuracy_score(y_test,y_pred)\n",
    "    acc_value.append(acc)"
   ]
  },
  {
   "cell_type": "code",
   "execution_count": null,
   "metadata": {},
   "outputs": [],
   "source": [
    "acc_value"
   ]
  },
  {
   "cell_type": "code",
   "execution_count": null,
   "metadata": {},
   "outputs": [],
   "source": [
    "plt.plot(neighbors,acc_value,\"o-\")\n",
    "plt.xlabel(\"K values\")\n",
    "plt.ylabel(\"Accuracy values\")"
   ]
  },
  {
   "cell_type": "code",
   "execution_count": 75,
   "metadata": {},
   "outputs": [],
   "source": [
    "classifier = KNeighborsClassifier(n_neighbors=3, metric=\"minkowski\")\n",
    "classifier.fit(X_train,y_train)\n",
    "y_pred = classifier.predict(X_test)"
   ]
  },
  {
   "cell_type": "code",
   "execution_count": 76,
   "metadata": {},
   "outputs": [
    {
     "name": "stdout",
     "output_type": "stream",
     "text": [
      "Accuracy is : 0.8754126846220678\n",
      "Precision is : 0.7326481694684439\n",
      "Recall is : 0.665538340117755\n",
      "F1 score is : 0.6901575180072874\n",
      "\n",
      "\n",
      "\n",
      "Confusion matrix\n",
      "\n",
      " [[4744  233]\n",
      " [ 484  294]]\n"
     ]
    }
   ],
   "source": [
    "print(\"Accuracy is :\", accuracy_score(y_test,y_pred))\n",
    "print(\"Precision is :\", precision_score(y_test,y_pred, average='macro'))\n",
    "print(\"Recall is :\", recall_score(y_test,y_pred, average='macro'))\n",
    "print(\"F1 score is :\", f1_score(y_test,y_pred, average='macro'))\n",
    "print('\\n\\n\\nConfusion matrix\\n\\n',confusion_matrix(y_test,y_pred))"
   ]
  },
  {
   "cell_type": "markdown",
   "metadata": {},
   "source": [
    "### SVM- Support Vector Machine"
   ]
  },
  {
   "cell_type": "code",
   "execution_count": 77,
   "metadata": {},
   "outputs": [],
   "source": [
    "#importing SVC from SVM\n",
    "from sklearn.svm import SVC\n",
    "svm_rbf=SVC(kernel='rbf')\n",
    "svm_rbf.fit(X_train,y_train)\n",
    "y_pred=svm_rbf.predict(X_test)"
   ]
  },
  {
   "cell_type": "code",
   "execution_count": 78,
   "metadata": {},
   "outputs": [
    {
     "name": "stdout",
     "output_type": "stream",
     "text": [
      "Accuracy is : 0.8648132059079062\n",
      "Precision is : 0.4324066029539531\n",
      "Recall is : 0.5\n",
      "F1 score is : 0.4637532612746926\n",
      "\n",
      "\n",
      "\n",
      "Confusion matrix\n",
      "\n",
      " [[4977    0]\n",
      " [ 778    0]]\n"
     ]
    },
    {
     "name": "stderr",
     "output_type": "stream",
     "text": [
      "E:\\anaconda3\\lib\\site-packages\\sklearn\\metrics\\_classification.py:1245: UndefinedMetricWarning: Precision is ill-defined and being set to 0.0 in labels with no predicted samples. Use `zero_division` parameter to control this behavior.\n",
      "  _warn_prf(average, modifier, msg_start, len(result))\n"
     ]
    }
   ],
   "source": [
    "print(\"Accuracy is :\", accuracy_score(y_test,y_pred))\n",
    "print(\"Precision is :\", precision_score(y_test,y_pred, average='macro'))\n",
    "print(\"Recall is :\", recall_score(y_test,y_pred, average='macro'))\n",
    "print(\"F1 score is :\", f1_score(y_test,y_pred, average='macro'))\n",
    "print('\\n\\n\\nConfusion matrix\\n\\n',confusion_matrix(y_test,y_pred))"
   ]
  },
  {
   "cell_type": "markdown",
   "metadata": {},
   "source": [
    "### Decision Tree"
   ]
  },
  {
   "cell_type": "code",
   "execution_count": 79,
   "metadata": {},
   "outputs": [],
   "source": [
    "#importing DecisionTreeClassifier from sklearn.tree\n",
    "from sklearn.tree import DecisionTreeClassifier\n",
    "dec_tree_model=DecisionTreeClassifier()\n",
    "dec_tree_model.fit(X_train,y_train)\n",
    "y_pred=dec_tree_model.predict(X_test)"
   ]
  },
  {
   "cell_type": "code",
   "execution_count": 80,
   "metadata": {},
   "outputs": [
    {
     "name": "stdout",
     "output_type": "stream",
     "text": [
      "Accuracy is : 0.8472632493483927\n",
      "Precision is : 0.6812332661525019\n",
      "Recall is : 0.7002313469724227\n",
      "F1 score is : 0.6898444361673265\n",
      "\n",
      "\n",
      "\n",
      "Confusion matrix\n",
      "\n",
      " [[4488  489]\n",
      " [ 390  388]]\n"
     ]
    }
   ],
   "source": [
    "print(\"Accuracy is :\", accuracy_score(y_test,y_pred))\n",
    "print(\"Precision is :\", precision_score(y_test,y_pred, average='macro'))\n",
    "print(\"Recall is :\", recall_score(y_test,y_pred, average='macro'))\n",
    "print(\"F1 score is :\", f1_score(y_test,y_pred, average='macro'))\n",
    "print('\\n\\n\\nConfusion matrix\\n\\n',confusion_matrix(y_test,y_pred))"
   ]
  },
  {
   "cell_type": "markdown",
   "metadata": {},
   "source": [
    "### Random Forest Model"
   ]
  },
  {
   "cell_type": "code",
   "execution_count": 81,
   "metadata": {},
   "outputs": [],
   "source": [
    "#importing RandomForestClassifier from sklearn.ensemble\n",
    "from sklearn.ensemble import RandomForestClassifier\n",
    "rand_f=RandomForestClassifier()\n",
    "rand_f.fit(X_train,y_train)\n",
    "y_pred=rand_f.predict(X_test)"
   ]
  },
  {
   "cell_type": "code",
   "execution_count": 82,
   "metadata": {},
   "outputs": [
    {
     "name": "stdout",
     "output_type": "stream",
     "text": [
      "Accuracy is : 0.9004344048653344\n",
      "Precision is : 0.8111994342291372\n",
      "Recall is : 0.7130797813902823\n",
      "F1 score is : 0.7486811651428398\n",
      "\n",
      "\n",
      "\n",
      "Confusion matrix\n",
      "\n",
      " [[4827  150]\n",
      " [ 423  355]]\n"
     ]
    }
   ],
   "source": [
    "print(\"Accuracy is :\", accuracy_score(y_test,y_pred))\n",
    "print(\"Precision is :\", precision_score(y_test,y_pred, average='macro'))\n",
    "print(\"Recall is :\", recall_score(y_test,y_pred, average='macro'))\n",
    "print(\"F1 score is :\", f1_score(y_test,y_pred, average='macro'))\n",
    "print('\\n\\n\\nConfusion matrix\\n\\n',confusion_matrix(y_test,y_pred))"
   ]
  },
  {
   "cell_type": "code",
   "execution_count": 83,
   "metadata": {},
   "outputs": [
    {
     "data": {
      "text/plain": [
       "nr.employed       15.785834\n",
       "euribor3m         12.652350\n",
       "cons.price.idx     9.601700\n",
       "education          8.980272\n",
       "poutcome           8.976628\n",
       "default            8.360561\n",
       "job                6.486866\n",
       "campaign           5.951968\n",
       "day_of_week        5.113191\n",
       "any_loan           4.063794\n",
       "marital            3.977759\n",
       "cons.conf.idx      3.219031\n",
       "month              2.724943\n",
       "loan               2.207531\n",
       "contact            1.897572\n",
       "dtype: float64"
      ]
     },
     "execution_count": 83,
     "metadata": {},
     "output_type": "execute_result"
    }
   ],
   "source": [
    "pd.Series(rand_f.feature_importances_,index=X.columns).sort_values(ascending=False)*100"
   ]
  },
  {
   "cell_type": "code",
   "execution_count": 84,
   "metadata": {},
   "outputs": [],
   "source": [
    "rf_tune = RandomForestClassifier(n_estimators=700, max_depth=19,random_state=25,criterion=\"entropy\")"
   ]
  },
  {
   "cell_type": "code",
   "execution_count": 85,
   "metadata": {},
   "outputs": [
    {
     "data": {
      "text/plain": [
       "RandomForestClassifier(criterion='entropy', max_depth=19, n_estimators=700,\n",
       "                       random_state=25)"
      ]
     },
     "execution_count": 85,
     "metadata": {},
     "output_type": "execute_result"
    }
   ],
   "source": [
    "rf_tune.fit(X_train,y_train)"
   ]
  },
  {
   "cell_type": "code",
   "execution_count": 86,
   "metadata": {},
   "outputs": [
    {
     "name": "stdout",
     "output_type": "stream",
     "text": [
      "Accuracy is : 0.9049522154648132\n",
      "Precision is : 0.831332735247209\n",
      "Recall is : 0.7146073738683807\n",
      "F1 score is : 0.7550591459506641\n"
     ]
    }
   ],
   "source": [
    "y_pred=rf_tune.predict(X_test)\n",
    "print(\"Accuracy is :\", accuracy_score(y_test,y_pred))\n",
    "print(\"Precision is :\", precision_score(y_test,y_pred, average='macro'))\n",
    "print(\"Recall is :\", recall_score(y_test,y_pred, average='macro'))\n",
    "print(\"F1 score is :\", f1_score(y_test,y_pred, average='macro'))"
   ]
  },
  {
   "cell_type": "markdown",
   "metadata": {},
   "source": [
    "### Gradient Boosting"
   ]
  },
  {
   "cell_type": "code",
   "execution_count": 87,
   "metadata": {},
   "outputs": [],
   "source": [
    "#importing GradientBoostingClassifier from sklearn.ensemble\n",
    "from sklearn.ensemble import GradientBoostingClassifier\n",
    "grad_b=GradientBoostingClassifier()\n",
    "grad_b.fit(X_train, y_train)\n",
    "y_pred=grad_b.predict(X_test)"
   ]
  },
  {
   "cell_type": "code",
   "execution_count": 88,
   "metadata": {},
   "outputs": [
    {
     "name": "stdout",
     "output_type": "stream",
     "text": [
      "Accuracy is : 0.9066898349261512\n",
      "Precision is : 0.8506120324407342\n",
      "Recall is : 0.7042255558086479\n",
      "F1 score is : 0.7503910998602791\n",
      "\n",
      "\n",
      "\n",
      "Confusion matrix\n",
      "\n",
      " [[4886   91]\n",
      " [ 446  332]]\n"
     ]
    }
   ],
   "source": [
    "print(\"Accuracy is :\", accuracy_score(y_test,y_pred))\n",
    "print(\"Precision is :\", precision_score(y_test,y_pred, average='macro'))\n",
    "print(\"Recall is :\", recall_score(y_test,y_pred, average='macro'))\n",
    "print(\"F1 score is :\", f1_score(y_test,y_pred, average='macro'))\n",
    "print('\\n\\n\\nConfusion matrix\\n\\n',confusion_matrix(y_test,y_pred))"
   ]
  },
  {
   "cell_type": "markdown",
   "metadata": {},
   "source": [
    "### Extreme Gradient Boosting"
   ]
  },
  {
   "cell_type": "code",
   "execution_count": 89,
   "metadata": {},
   "outputs": [],
   "source": [
    "#importing XGBClassifier from xgboost\n",
    "from xgboost import XGBClassifier"
   ]
  },
  {
   "cell_type": "code",
   "execution_count": 90,
   "metadata": {},
   "outputs": [
    {
     "name": "stderr",
     "output_type": "stream",
     "text": [
      "E:\\anaconda3\\lib\\site-packages\\xgboost\\sklearn.py:1224: UserWarning: The use of label encoder in XGBClassifier is deprecated and will be removed in a future release. To remove this warning, do the following: 1) Pass option use_label_encoder=False when constructing XGBClassifier object; and 2) Encode your labels (y) as integers starting with 0, i.e. 0, 1, 2, ..., [num_class - 1].\n",
      "  warnings.warn(label_encoder_deprecation_msg, UserWarning)\n"
     ]
    },
    {
     "name": "stdout",
     "output_type": "stream",
     "text": [
      "[21:54:00] WARNING: ..\\src\\learner.cc:1115: Starting in XGBoost 1.3.0, the default evaluation metric used with the objective 'binary:logistic' was changed from 'error' to 'logloss'. Explicitly set eval_metric if you'd like to restore the old behavior.\n"
     ]
    }
   ],
   "source": [
    "xg_boost=XGBClassifier()\n",
    "xg_boost.fit(X_train,y_train)\n",
    "y_pred=xg_boost.predict(X_test)"
   ]
  },
  {
   "cell_type": "code",
   "execution_count": 91,
   "metadata": {},
   "outputs": [
    {
     "name": "stdout",
     "output_type": "stream",
     "text": [
      "Accuracy is : 0.9047784535186794\n",
      "Precision is : 0.8231346380714168\n",
      "Recall is : 0.7248089282679762\n",
      "F1 score is : 0.7611102728324386\n",
      "\n",
      "\n",
      "\n",
      "Confusion matrix\n",
      "\n",
      " [[4835  142]\n",
      " [ 406  372]]\n"
     ]
    }
   ],
   "source": [
    "print(\"Accuracy is :\", accuracy_score(y_test,y_pred))\n",
    "print(\"Precision is :\", precision_score(y_test,y_pred, average='macro'))\n",
    "print(\"Recall is :\", recall_score(y_test,y_pred, average='macro'))\n",
    "print(\"F1 score is :\", f1_score(y_test,y_pred, average='macro'))\n",
    "print('\\n\\n\\nConfusion matrix\\n\\n',confusion_matrix(y_test,y_pred))"
   ]
  }
 ],
 "metadata": {
  "colab": {
   "collapsed_sections": [],
   "name": "Project_Team2.ipynb",
   "provenance": []
  },
  "kernelspec": {
   "display_name": "Python 3",
   "language": "python",
   "name": "python3"
  },
  "language_info": {
   "codemirror_mode": {
    "name": "ipython",
    "version": 3
   },
   "file_extension": ".py",
   "mimetype": "text/x-python",
   "name": "python",
   "nbconvert_exporter": "python",
   "pygments_lexer": "ipython3",
   "version": "3.8.8"
  }
 },
 "nbformat": 4,
 "nbformat_minor": 1
}
